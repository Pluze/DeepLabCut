{
  "cells": [
    {
      "cell_type": "markdown",
      "metadata": {
        "id": "view-in-github",
        "colab_type": "text"
      },
      "source": [
        "<a href=\"https://colab.research.google.com/github/Pluze/DeepLabCut/blob/main/examples/COLAB/COLAB_YOURDATA_TrainNetwork_VideoAnalysis.ipynb\" target=\"_parent\"><img src=\"https://colab.research.google.com/assets/colab-badge.svg\" alt=\"Open In Colab\"/></a>"
      ]
    },
    {
      "cell_type": "markdown",
      "metadata": {
        "id": "RK255E7YoEIt"
      },
      "source": [
        "# DeepLabCut for your standard (single animal) projects!\n",
        "\n",
        "Some useful links:\n",
        "\n",
        "- [DeepLabCut's GitHub: github.com/DeepLabCut/DeepLabCut](https://github.com/DeepLabCut/DeepLabCut)\n",
        "- [DeepLabCut's Documentation: User Guide for Single Animal projects](https://deeplabcut.github.io/DeepLabCut/docs/standardDeepLabCut_UserGuide.html)\n",
        "\n",
        "\n",
        "This notebook illustrates how to use the cloud to:\n",
        "- create a training set\n",
        "- train a network\n",
        "- evaluate a network\n",
        "- create simple quality check plots\n",
        "- analyze novel videos!\n",
        "\n",
        "### This notebook assumes you already have a project folder with labeled data!\n",
        "\n",
        "This notebook demonstrates the necessary steps to use DeepLabCut for your own project.\n",
        "\n",
        "This shows the most simple code to do so, but many of the functions have additional features, so please check out the overview & the protocol paper!\n",
        "\n",
        "Nath\\*, Mathis\\* et al.: Using DeepLabCut for markerless pose estimation during behavior across species. Nature Protocols, 2019.\n",
        "\n",
        "\n",
        "Paper: https://www.nature.com/articles/s41596-019-0176-0\n",
        "\n",
        "Pre-print: https://www.biorxiv.org/content/biorxiv/early/2018/11/24/476531.full.pdf\n"
      ]
    },
    {
      "cell_type": "markdown",
      "metadata": {
        "id": "txoddlM8hLKm"
      },
      "source": [
        "## First, go to \"Runtime\" ->\"change runtime type\"->select \"Python3\", and then select \"GPU\"\n",
        "\n",
        "As the COLAB environments were updated to CUDA 12.X and Python 3.11, we need to install DeepLabCut and TensorFlow in a distinct way to get TensorFlow to connect to the GPU."
      ]
    },
    {
      "cell_type": "code",
      "execution_count": null,
      "metadata": {
        "colab": {
          "base_uri": "https://localhost:8080/"
        },
        "id": "rSDuhn_BqHqi",
        "outputId": "3ef7f425-ce23-46cd-d187-c8b4511cd1ca"
      },
      "outputs": [
        {
          "output_type": "stream",
          "name": "stdout",
          "text": [
            "Requirement already satisfied: deeplabcut in /usr/local/lib/python3.12/dist-packages (3.0.0rc10)\n",
            "Requirement already satisfied: albumentations<=1.4.3 in /usr/local/lib/python3.12/dist-packages (from deeplabcut) (1.4.3)\n",
            "Requirement already satisfied: dlclibrary>=0.0.7 in /usr/local/lib/python3.12/dist-packages (from deeplabcut) (0.0.11)\n",
            "Requirement already satisfied: einops in /usr/local/lib/python3.12/dist-packages (from deeplabcut) (0.8.1)\n",
            "Requirement already satisfied: filterpy>=1.4.4 in /usr/local/lib/python3.12/dist-packages (from deeplabcut) (1.4.5)\n",
            "Requirement already satisfied: ruamel.yaml>=0.15.0 in /usr/local/lib/python3.12/dist-packages (from deeplabcut) (0.18.15)\n",
            "Requirement already satisfied: imgaug>=0.4.0 in /usr/local/lib/python3.12/dist-packages (from deeplabcut) (0.4.0)\n",
            "Requirement already satisfied: imageio-ffmpeg in /usr/local/lib/python3.12/dist-packages (from deeplabcut) (0.6.0)\n",
            "Requirement already satisfied: numba>=0.54 in /usr/local/lib/python3.12/dist-packages (from deeplabcut) (0.60.0)\n",
            "Requirement already satisfied: matplotlib!=3.7.0,!=3.7.1,<3.9,>=3.3 in /usr/local/lib/python3.12/dist-packages (from deeplabcut) (3.8.4)\n",
            "Requirement already satisfied: networkx>=2.6 in /usr/local/lib/python3.12/dist-packages (from deeplabcut) (3.5)\n",
            "Requirement already satisfied: numpy<2.0.0,>=1.18.5 in /usr/local/lib/python3.12/dist-packages (from deeplabcut) (1.26.4)\n",
            "Requirement already satisfied: pandas!=1.5.0,>=1.0.1 in /usr/local/lib/python3.12/dist-packages (from deeplabcut) (2.2.2)\n",
            "Requirement already satisfied: scikit-image>=0.17 in /usr/local/lib/python3.12/dist-packages (from deeplabcut) (0.25.2)\n",
            "Requirement already satisfied: scikit-learn>=1.0 in /usr/local/lib/python3.12/dist-packages (from deeplabcut) (1.6.1)\n",
            "Requirement already satisfied: scipy>=1.9 in /usr/local/lib/python3.12/dist-packages (from deeplabcut) (1.16.1)\n",
            "Requirement already satisfied: statsmodels>=0.11 in /usr/local/lib/python3.12/dist-packages (from deeplabcut) (0.14.5)\n",
            "Requirement already satisfied: timm in /usr/local/lib/python3.12/dist-packages (from deeplabcut) (1.0.19)\n",
            "Requirement already satisfied: torch>=2.0.0 in /usr/local/lib/python3.12/dist-packages (from deeplabcut) (2.8.0+cu126)\n",
            "Requirement already satisfied: torchvision in /usr/local/lib/python3.12/dist-packages (from deeplabcut) (0.23.0+cu126)\n",
            "Requirement already satisfied: tqdm in /usr/local/lib/python3.12/dist-packages (from deeplabcut) (4.67.1)\n",
            "Requirement already satisfied: pycocotools in /usr/local/lib/python3.12/dist-packages (from deeplabcut) (2.0.10)\n",
            "Requirement already satisfied: pyyaml in /usr/local/lib/python3.12/dist-packages (from deeplabcut) (6.0.2)\n",
            "Requirement already satisfied: Pillow>=7.1 in /usr/local/lib/python3.12/dist-packages (from deeplabcut) (11.3.0)\n",
            "Requirement already satisfied: typing-extensions>=4.9.0 in /usr/local/lib/python3.12/dist-packages (from albumentations<=1.4.3->deeplabcut) (4.15.0)\n",
            "Requirement already satisfied: opencv-python-headless>=4.9.0 in /usr/local/lib/python3.12/dist-packages (from albumentations<=1.4.3->deeplabcut) (4.11.0.86)\n",
            "Requirement already satisfied: huggingface-hub in /usr/local/lib/python3.12/dist-packages (from dlclibrary>=0.0.7->deeplabcut) (0.34.4)\n",
            "Requirement already satisfied: six in /usr/local/lib/python3.12/dist-packages (from imgaug>=0.4.0->deeplabcut) (1.17.0)\n",
            "Requirement already satisfied: opencv-python in /usr/local/lib/python3.12/dist-packages (from imgaug>=0.4.0->deeplabcut) (4.11.0.86)\n",
            "Requirement already satisfied: imageio in /usr/local/lib/python3.12/dist-packages (from imgaug>=0.4.0->deeplabcut) (2.37.0)\n",
            "Requirement already satisfied: Shapely in /usr/local/lib/python3.12/dist-packages (from imgaug>=0.4.0->deeplabcut) (2.1.1)\n",
            "Requirement already satisfied: contourpy>=1.0.1 in /usr/local/lib/python3.12/dist-packages (from matplotlib!=3.7.0,!=3.7.1,<3.9,>=3.3->deeplabcut) (1.3.3)\n",
            "Requirement already satisfied: cycler>=0.10 in /usr/local/lib/python3.12/dist-packages (from matplotlib!=3.7.0,!=3.7.1,<3.9,>=3.3->deeplabcut) (0.12.1)\n",
            "Requirement already satisfied: fonttools>=4.22.0 in /usr/local/lib/python3.12/dist-packages (from matplotlib!=3.7.0,!=3.7.1,<3.9,>=3.3->deeplabcut) (4.59.2)\n",
            "Requirement already satisfied: kiwisolver>=1.3.1 in /usr/local/lib/python3.12/dist-packages (from matplotlib!=3.7.0,!=3.7.1,<3.9,>=3.3->deeplabcut) (1.4.9)\n",
            "Requirement already satisfied: packaging>=20.0 in /usr/local/lib/python3.12/dist-packages (from matplotlib!=3.7.0,!=3.7.1,<3.9,>=3.3->deeplabcut) (25.0)\n",
            "Requirement already satisfied: pyparsing>=2.3.1 in /usr/local/lib/python3.12/dist-packages (from matplotlib!=3.7.0,!=3.7.1,<3.9,>=3.3->deeplabcut) (3.2.3)\n",
            "Requirement already satisfied: python-dateutil>=2.7 in /usr/local/lib/python3.12/dist-packages (from matplotlib!=3.7.0,!=3.7.1,<3.9,>=3.3->deeplabcut) (2.9.0.post0)\n",
            "Requirement already satisfied: llvmlite<0.44,>=0.43.0dev0 in /usr/local/lib/python3.12/dist-packages (from numba>=0.54->deeplabcut) (0.43.0)\n",
            "Requirement already satisfied: pytz>=2020.1 in /usr/local/lib/python3.12/dist-packages (from pandas!=1.5.0,>=1.0.1->deeplabcut) (2025.2)\n",
            "Requirement already satisfied: tzdata>=2022.7 in /usr/local/lib/python3.12/dist-packages (from pandas!=1.5.0,>=1.0.1->deeplabcut) (2025.2)\n",
            "Requirement already satisfied: ruamel.yaml.clib>=0.2.7 in /usr/local/lib/python3.12/dist-packages (from ruamel.yaml>=0.15.0->deeplabcut) (0.2.12)\n",
            "Requirement already satisfied: tifffile>=2022.8.12 in /usr/local/lib/python3.12/dist-packages (from scikit-image>=0.17->deeplabcut) (2025.8.28)\n",
            "Requirement already satisfied: lazy-loader>=0.4 in /usr/local/lib/python3.12/dist-packages (from scikit-image>=0.17->deeplabcut) (0.4)\n",
            "Requirement already satisfied: joblib>=1.2.0 in /usr/local/lib/python3.12/dist-packages (from scikit-learn>=1.0->deeplabcut) (1.5.2)\n",
            "Requirement already satisfied: threadpoolctl>=3.1.0 in /usr/local/lib/python3.12/dist-packages (from scikit-learn>=1.0->deeplabcut) (3.6.0)\n",
            "Requirement already satisfied: patsy>=0.5.6 in /usr/local/lib/python3.12/dist-packages (from statsmodels>=0.11->deeplabcut) (1.0.1)\n",
            "Requirement already satisfied: filelock in /usr/local/lib/python3.12/dist-packages (from torch>=2.0.0->deeplabcut) (3.19.1)\n",
            "Requirement already satisfied: setuptools in /usr/local/lib/python3.12/dist-packages (from torch>=2.0.0->deeplabcut) (75.2.0)\n",
            "Requirement already satisfied: sympy>=1.13.3 in /usr/local/lib/python3.12/dist-packages (from torch>=2.0.0->deeplabcut) (1.13.3)\n",
            "Requirement already satisfied: jinja2 in /usr/local/lib/python3.12/dist-packages (from torch>=2.0.0->deeplabcut) (3.1.6)\n",
            "Requirement already satisfied: fsspec in /usr/local/lib/python3.12/dist-packages (from torch>=2.0.0->deeplabcut) (2025.3.0)\n",
            "Requirement already satisfied: nvidia-cuda-nvrtc-cu12==12.6.77 in /usr/local/lib/python3.12/dist-packages (from torch>=2.0.0->deeplabcut) (12.6.77)\n",
            "Requirement already satisfied: nvidia-cuda-runtime-cu12==12.6.77 in /usr/local/lib/python3.12/dist-packages (from torch>=2.0.0->deeplabcut) (12.6.77)\n",
            "Requirement already satisfied: nvidia-cuda-cupti-cu12==12.6.80 in /usr/local/lib/python3.12/dist-packages (from torch>=2.0.0->deeplabcut) (12.6.80)\n",
            "Requirement already satisfied: nvidia-cudnn-cu12==9.10.2.21 in /usr/local/lib/python3.12/dist-packages (from torch>=2.0.0->deeplabcut) (9.10.2.21)\n",
            "Requirement already satisfied: nvidia-cublas-cu12==12.6.4.1 in /usr/local/lib/python3.12/dist-packages (from torch>=2.0.0->deeplabcut) (12.6.4.1)\n",
            "Requirement already satisfied: nvidia-cufft-cu12==11.3.0.4 in /usr/local/lib/python3.12/dist-packages (from torch>=2.0.0->deeplabcut) (11.3.0.4)\n",
            "Requirement already satisfied: nvidia-curand-cu12==10.3.7.77 in /usr/local/lib/python3.12/dist-packages (from torch>=2.0.0->deeplabcut) (10.3.7.77)\n",
            "Requirement already satisfied: nvidia-cusolver-cu12==11.7.1.2 in /usr/local/lib/python3.12/dist-packages (from torch>=2.0.0->deeplabcut) (11.7.1.2)\n",
            "Requirement already satisfied: nvidia-cusparse-cu12==12.5.4.2 in /usr/local/lib/python3.12/dist-packages (from torch>=2.0.0->deeplabcut) (12.5.4.2)\n",
            "Requirement already satisfied: nvidia-cusparselt-cu12==0.7.1 in /usr/local/lib/python3.12/dist-packages (from torch>=2.0.0->deeplabcut) (0.7.1)\n",
            "Requirement already satisfied: nvidia-nccl-cu12==2.27.3 in /usr/local/lib/python3.12/dist-packages (from torch>=2.0.0->deeplabcut) (2.27.3)\n",
            "Requirement already satisfied: nvidia-nvtx-cu12==12.6.77 in /usr/local/lib/python3.12/dist-packages (from torch>=2.0.0->deeplabcut) (12.6.77)\n",
            "Requirement already satisfied: nvidia-nvjitlink-cu12==12.6.85 in /usr/local/lib/python3.12/dist-packages (from torch>=2.0.0->deeplabcut) (12.6.85)\n",
            "Requirement already satisfied: nvidia-cufile-cu12==1.11.1.6 in /usr/local/lib/python3.12/dist-packages (from torch>=2.0.0->deeplabcut) (1.11.1.6)\n",
            "Requirement already satisfied: triton==3.4.0 in /usr/local/lib/python3.12/dist-packages (from torch>=2.0.0->deeplabcut) (3.4.0)\n",
            "Requirement already satisfied: safetensors in /usr/local/lib/python3.12/dist-packages (from timm->deeplabcut) (0.6.2)\n",
            "Requirement already satisfied: mpmath<1.4,>=1.1.0 in /usr/local/lib/python3.12/dist-packages (from sympy>=1.13.3->torch>=2.0.0->deeplabcut) (1.3.0)\n",
            "Requirement already satisfied: requests in /usr/local/lib/python3.12/dist-packages (from huggingface-hub->dlclibrary>=0.0.7->deeplabcut) (2.32.4)\n",
            "Requirement already satisfied: hf-xet<2.0.0,>=1.1.3 in /usr/local/lib/python3.12/dist-packages (from huggingface-hub->dlclibrary>=0.0.7->deeplabcut) (1.1.9)\n",
            "Requirement already satisfied: MarkupSafe>=2.0 in /usr/local/lib/python3.12/dist-packages (from jinja2->torch>=2.0.0->deeplabcut) (3.0.2)\n",
            "Requirement already satisfied: charset_normalizer<4,>=2 in /usr/local/lib/python3.12/dist-packages (from requests->huggingface-hub->dlclibrary>=0.0.7->deeplabcut) (3.4.3)\n",
            "Requirement already satisfied: idna<4,>=2.5 in /usr/local/lib/python3.12/dist-packages (from requests->huggingface-hub->dlclibrary>=0.0.7->deeplabcut) (3.10)\n",
            "Requirement already satisfied: urllib3<3,>=1.21.1 in /usr/local/lib/python3.12/dist-packages (from requests->huggingface-hub->dlclibrary>=0.0.7->deeplabcut) (2.5.0)\n",
            "Requirement already satisfied: certifi>=2017.4.17 in /usr/local/lib/python3.12/dist-packages (from requests->huggingface-hub->dlclibrary>=0.0.7->deeplabcut) (2025.8.3)\n"
          ]
        }
      ],
      "source": [
        "# this will take a couple of minutes to install all the dependencies!\n",
        "!pip install --pre deeplabcut"
      ]
    },
    {
      "cell_type": "markdown",
      "metadata": {
        "id": "25wSj6TlVclR"
      },
      "source": [
        "**(Be sure to click \"RESTART RUNTIME\" if it is displayed above before moving on !)** You will see this button at the output of the cells above ^."
      ]
    },
    {
      "cell_type": "code",
      "execution_count": null,
      "metadata": {
        "colab": {
          "base_uri": "https://localhost:8080/"
        },
        "id": "oTwAcbq2-FZz",
        "outputId": "34e799dc-e3fd-4baf-8ee7-c4282b8875f1"
      },
      "outputs": [
        {
          "output_type": "stream",
          "name": "stdout",
          "text": [
            "Loading DLC 3.0.0rc10...\n",
            "DLC loaded in light mode; you cannot use any GUI (labeling, relabeling and standalone GUI)\n"
          ]
        }
      ],
      "source": [
        "import deeplabcut"
      ]
    },
    {
      "cell_type": "markdown",
      "metadata": {
        "id": "cQ-nlTkri4HZ"
      },
      "source": [
        "## Link your Google Drive (with your labeled data, or the demo data):\n",
        "\n",
        "### First, place your project folder into you google drive! \"i.e. move the folder named \"Project-YourName-TheDate\" into google drive."
      ]
    },
    {
      "cell_type": "code",
      "execution_count": null,
      "metadata": {
        "colab": {
          "base_uri": "https://localhost:8080/"
        },
        "id": "KS4Q4UkR9rgG",
        "outputId": "b032b8a2-9597-483d-94b1-0260acc36068"
      },
      "outputs": [
        {
          "output_type": "stream",
          "name": "stdout",
          "text": [
            "Mounted at /content/drive\n"
          ]
        }
      ],
      "source": [
        "# Now, let's link to your GoogleDrive. Run this cell and follow the authorization instructions:\n",
        "# (We recommend putting a copy of the github repo in your google drive if you are using the demo \"examples\")\n",
        "\n",
        "from google.colab import drive\n",
        "\n",
        "drive.mount(\"/content/drive\")"
      ]
    },
    {
      "cell_type": "markdown",
      "metadata": {
        "id": "Frnj1RVDyEqs"
      },
      "source": [
        "YOU WILL NEED TO EDIT THE PROJECT PATH **in the config.yaml file** TO BE SET TO YOUR GOOGLE DRIVE LINK!\n",
        "\n",
        "Typically, this will be: `/content/drive/My Drive/yourProjectFolderName`\n"
      ]
    },
    {
      "cell_type": "code",
      "execution_count": 8,
      "metadata": {
        "colab": {
          "base_uri": "https://localhost:8080/"
        },
        "id": "vhENAlQnFENJ",
        "outputId": "90721bd0-1f4b-4f4a-c920-b4e4a84f8352"
      },
      "outputs": [
        {
          "output_type": "stream",
          "name": "stdout",
          "text": [
            "['/content/drive/MyDrive/ratrun2-ziyu-2025-09-14/videos/']\n",
            "/content/drive/MyDrive/ratrun2-ziyu-2025-09-14/config.yaml\n"
          ]
        }
      ],
      "source": [
        "# PLEASE EDIT THIS:\n",
        "project_folder_name = \"ratrun2-ziyu-2025-09-14\"\n",
        "video_type = \"mp4\" #, mp4, MOV, or avi, whatever you uploaded!\n",
        "\n",
        "# No need to edit this, we are going to assume you put videos you want to analyze\n",
        "# in the \"videos\" folder, but if this is NOT true, edit below:\n",
        "videofile_path = [f\"/content/drive/MyDrive/{project_folder_name}/videos/\"]\n",
        "print(videofile_path)\n",
        "\n",
        "# The prediction files and labeled videos will be saved in this `labeled-videos` folder\n",
        "# in your project folder; if you want them elsewhere, you can edit this;\n",
        "# if you want the output files in the same folder as the videos, set this to an empty string.\n",
        "destfolder = f\"/content/drive/MyDrive/{project_folder_name}/labeled-videos\"\n",
        "\n",
        "#No need to edit this, as you set it when you passed the ProjectFolderName (above):\n",
        "path_config_file = f\"/content/drive/MyDrive/{project_folder_name}/config.yaml\"\n",
        "print(path_config_file)\n",
        "\n",
        "# This creates a path variable that links to your Google Drive project"
      ]
    },
    {
      "cell_type": "markdown",
      "metadata": {
        "id": "xNi9s1dboEJN"
      },
      "source": [
        "## Create a training dataset:\n",
        "\n",
        "### You must do this step inside of Colab\n",
        "\n",
        "After running this script the training dataset is created and saved in the project directory under the subdirectory **'training-datasets'**\n",
        "\n",
        "This function also creates new subdirectories under **dlc-models-pytorch** and appends the project config.yaml file with the correct path to the training and testing pose configuration file. These files hold the parameters for training the network. Such an example file is provided with the toolbox and named as **pytorch_config.yaml**.\n",
        "\n",
        "Now it is the time to start training the network!"
      ]
    },
    {
      "cell_type": "code",
      "execution_count": 9,
      "metadata": {
        "id": "eMeUwgxPoEJP",
        "scrolled": true,
        "colab": {
          "base_uri": "https://localhost:8080/"
        },
        "outputId": "9363cc9b-e737-4311-8b0b-b41810b011da"
      },
      "outputs": [
        {
          "output_type": "execute_result",
          "data": {
            "text/plain": [
              "[(0.95,\n",
              "  1,\n",
              "  (array([120, 125, 209, 224,  54, 295,  22, 192,  55, 115, 141,  23,   5,\n",
              "          226,  46,  93,  31, 220, 198, 244,  25,  53,  69, 159,  98, 136,\n",
              "          169, 128, 163, 164,  43,  62, 171,  18, 254, 269,   6, 153,  63,\n",
              "          196, 121, 104, 259,  45,  65, 279, 317,  42, 161, 248,  66, 276,\n",
              "          274,  72, 116,  26, 114,  85, 315, 147, 142, 186, 227,  52, 250,\n",
              "            2,   1, 232, 201, 294,  24, 235, 124, 156,  84, 197,  39, 262,\n",
              "          140, 260, 308, 270, 215, 231,  89,  67, 151, 189, 190, 139,  14,\n",
              "          108, 289,  38,  19,  30, 290, 310, 256,  12, 247,  97, 319,   9,\n",
              "          212, 211, 130, 182,  35, 299, 137, 245, 307,  36, 273,   4, 112,\n",
              "          176, 208,  76, 234, 313, 312, 184,  61,  47, 148, 219,  92, 109,\n",
              "            0,  40,  75, 152,   7,  59, 111, 126, 287, 218,  56,   8, 217,\n",
              "           86, 230,  51, 238, 199,  37, 118, 119,  81,  32, 200, 100,  90,\n",
              "          214, 174, 253, 282, 167, 318, 178, 241, 154, 268, 255, 145, 286,\n",
              "          135, 293, 158, 292, 304,  29,  94, 101, 300, 233,  68, 138, 188,\n",
              "           48, 155, 291, 207,  99, 223, 127, 170, 160, 306,  34, 149, 202,\n",
              "          168, 162,  74, 261, 243, 134, 251, 166, 228,  17, 175, 194,  41,\n",
              "          301, 221, 177,  49, 193, 240, 132, 246, 110,  95, 157,  77, 203,\n",
              "           87, 265, 225,  91,  44, 311, 239,  20, 303, 278, 146,  13, 204,\n",
              "          275,  58,  57, 298,  27,  71,  28, 143, 283, 264, 305, 302, 210,\n",
              "          107,  96,  50, 288, 314,  80, 195, 222,  21,  70, 105,  10, 173,\n",
              "          266,  79, 229,  64, 150, 242,  83, 281, 309, 172, 316,  33,  16,\n",
              "          257, 144, 237, 277, 296, 297, 280, 213, 106, 131,  15,  73, 216,\n",
              "          284, 181, 129, 187, 191, 103, 123,  60, 272,  11, 267,  78, 285,\n",
              "          165,   3, 236,  82, 206]),\n",
              "   array([102, 185, 117, 252,  88, 205, 113, 183, 249, 179, 263, 180, 271,\n",
              "          133, 258, 122])))]"
            ]
          },
          "metadata": {},
          "execution_count": 9
        }
      ],
      "source": [
        "# There are many more functions you can set here, including which network to use!\n",
        "# Check the docstring for `create_training_dataset` for all options you can use!\n",
        "superanimal_name = \"superanimal_quadruped\"\n",
        "\n",
        "from deeplabcut.modelzoo import build_weight_init\n",
        "\n",
        "weight_init = build_weight_init(\n",
        "    cfg=path_config_file,\n",
        "    super_animal=superanimal_name,\n",
        "    model_name=\"resnet_50\",                     # SuperAnimal-Quadruped 的 PyTorch 姿态模型\n",
        "    detector_name=\"fasterrcnn_resnet50_fpn_v2\", # 搭配的检测器\n",
        "    with_decoder=False                          # 按官方示例保持 False\n",
        ")\n",
        "\n",
        "deeplabcut.create_training_dataset(\n",
        "    path_config_file,\n",
        "    engine=deeplabcut.Engine.PYTORCH,\n",
        "    net_type=\"resnet_50\",\n",
        "    weight_init=weight_init,\n",
        "    augmenter_type=\"albumentations\",\n",
        ")"
      ]
    },
    {
      "cell_type": "markdown",
      "metadata": {
        "id": "c4FczXGDoEJU"
      },
      "source": [
        "## Start training:\n",
        "This function trains the network for a specific shuffle of the training dataset."
      ]
    },
    {
      "cell_type": "code",
      "execution_count": 10,
      "metadata": {
        "id": "_pOvDq_2oEJW",
        "colab": {
          "base_uri": "https://localhost:8080/",
          "height": 1000
        },
        "outputId": "18ed054b-d039-43da-d9d0-08f9a1a4b56b"
      },
      "outputs": [
        {
          "output_type": "stream",
          "name": "stderr",
          "text": [
            "Training with configuration:\n",
            "data:\n",
            "  bbox_margin: 20\n",
            "  colormode: RGB\n",
            "  inference:\n",
            "    normalize_images: True\n",
            "  train:\n",
            "    affine:\n",
            "      p: 0.5\n",
            "      rotation: 30\n",
            "      scaling: [0.5, 1.25]\n",
            "      translation: 0\n",
            "    crop_sampling:\n",
            "      width: 448\n",
            "      height: 448\n",
            "      max_shift: 0.1\n",
            "      method: hybrid\n",
            "    gaussian_noise: 12.75\n",
            "    motion_blur: True\n",
            "    normalize_images: True\n",
            "device: auto\n",
            "metadata:\n",
            "  project_path: /content/drive/MyDrive/ratrun2-ziyu-2025-09-14\n",
            "  pose_config_path: /content/drive/MyDrive/ratrun2-ziyu-2025-09-14/dlc-models-pytorch/iteration-0/ratrun2Sep14-trainset95shuffle1/train/pytorch_config.yaml\n",
            "  bodyparts: ['iliac_crest', 'hip', 'knee', 'ankle', 'foot']\n",
            "  unique_bodyparts: []\n",
            "  individuals: ['animal']\n",
            "  with_identity: None\n",
            "method: bu\n",
            "model:\n",
            "  backbone:\n",
            "    type: ResNet\n",
            "    model_name: resnet50_gn\n",
            "    output_stride: 16\n",
            "    freeze_bn_stats: False\n",
            "    freeze_bn_weights: False\n",
            "  backbone_output_channels: 2048\n",
            "  heads:\n",
            "    bodypart:\n",
            "      type: HeatmapHead\n",
            "      weight_init: normal\n",
            "      predictor:\n",
            "        type: HeatmapPredictor\n",
            "        apply_sigmoid: False\n",
            "        clip_scores: True\n",
            "        location_refinement: True\n",
            "        locref_std: 7.2801\n",
            "      target_generator:\n",
            "        type: HeatmapGaussianGenerator\n",
            "        num_heatmaps: 5\n",
            "        pos_dist_thresh: 17\n",
            "        heatmap_mode: KEYPOINT\n",
            "        gradient_masking: False\n",
            "        generate_locref: True\n",
            "        locref_std: 7.2801\n",
            "      criterion:\n",
            "        heatmap:\n",
            "          type: WeightedMSECriterion\n",
            "          weight: 1.0\n",
            "        locref:\n",
            "          type: WeightedHuberCriterion\n",
            "          weight: 0.05\n",
            "      heatmap_config:\n",
            "        channels: [2048, 5]\n",
            "        kernel_size: [3]\n",
            "        strides: [2]\n",
            "      locref_config:\n",
            "        channels: [2048, 10]\n",
            "        kernel_size: [3]\n",
            "        strides: [2]\n",
            "net_type: resnet_50\n",
            "runner:\n",
            "  type: PoseTrainingRunner\n",
            "  gpus: None\n",
            "  key_metric: test.mAP\n",
            "  key_metric_asc: True\n",
            "  eval_interval: 10\n",
            "  optimizer:\n",
            "    type: AdamW\n",
            "    params:\n",
            "      lr: 0.0005\n",
            "  scheduler:\n",
            "    type: LRListScheduler\n",
            "    params:\n",
            "      lr_list: [[0.0001], [1e-05]]\n",
            "      milestones: [90, 120]\n",
            "  snapshots:\n",
            "    max_snapshots: 5\n",
            "    save_epochs: 5\n",
            "    save_optimizer_state: False\n",
            "train_settings:\n",
            "  batch_size: 32\n",
            "  dataloader_workers: 0\n",
            "  dataloader_pin_memory: False\n",
            "  display_iters: 500\n",
            "  epochs: 200\n",
            "  seed: 42\n",
            "  weight_init:\n",
            "    dataset: superanimal_quadruped\n",
            "    snapshot_path: /usr/local/lib/python3.12/dist-packages/deeplabcut/modelzoo/checkpoints/superanimal_quadruped_resnet_50.pt\n",
            "    detector_snapshot_path: /usr/local/lib/python3.12/dist-packages/deeplabcut/modelzoo/checkpoints/superanimal_quadruped_fasterrcnn_resnet50_fpn_v2.pt\n",
            "    with_decoder: False\n",
            "    memory_replay: False\n",
            "Loading pretrained model weights: WeightInitialization(snapshot_path=PosixPath('/usr/local/lib/python3.12/dist-packages/deeplabcut/modelzoo/checkpoints/superanimal_quadruped_resnet_50.pt'), detector_snapshot_path=PosixPath('/usr/local/lib/python3.12/dist-packages/deeplabcut/modelzoo/checkpoints/superanimal_quadruped_fasterrcnn_resnet50_fpn_v2.pt'), dataset='superanimal_quadruped', with_decoder=False, memory_replay=False, conversion_array=None, bodyparts=None)\n",
            "The pose model is loading from /usr/local/lib/python3.12/dist-packages/deeplabcut/modelzoo/checkpoints/superanimal_quadruped_resnet_50.pt\n",
            "Data Transforms:\n",
            "  Training:   Compose([\n",
            "  Affine(always_apply=False, p=0.5, interpolation=1, mask_interpolation=0, cval=0, mode=0, scale={'x': (0.5, 1.25), 'y': (0.5, 1.25)}, translate_percent=None, translate_px={'x': (0, 0), 'y': (0, 0)}, rotate=(-30, 30), fit_output=False, shear={'x': (0.0, 0.0), 'y': (0.0, 0.0)}, cval_mask=0, keep_ratio=True, rotate_method='largest_box'),\n",
            "  PadIfNeeded(always_apply=True, p=1.0, min_height=448, min_width=448, pad_height_divisor=None, pad_width_divisor=None, position=PositionType.CENTER, border_mode=0, value=None, mask_value=None),\n",
            "  KeypointAwareCrop(always_apply=True, p=1.0, width=448, height=448, max_shift=0.1, crop_sampling='hybrid'),\n",
            "  MotionBlur(always_apply=False, p=0.5, blur_limit=(3, 7), allow_shifted=True),\n",
            "  GaussNoise(always_apply=False, p=0.5, var_limit=(0, 162.5625), per_channel=True, mean=0),\n",
            "  Normalize(always_apply=False, p=1.0, mean=[0.485, 0.456, 0.406], std=[0.229, 0.224, 0.225], max_pixel_value=255.0),\n",
            "], p=1.0, bbox_params={'format': 'coco', 'label_fields': ['bbox_labels'], 'min_area': 0.0, 'min_visibility': 0.0, 'min_width': 0.0, 'min_height': 0.0, 'check_each_transform': True}, keypoint_params={'format': 'xy', 'label_fields': ['class_labels'], 'remove_invisible': False, 'angle_in_degrees': True, 'check_each_transform': True}, additional_targets={}, is_check_shapes=True)\n",
            "  Validation: Compose([\n",
            "  Normalize(always_apply=False, p=1.0, mean=[0.485, 0.456, 0.406], std=[0.229, 0.224, 0.225], max_pixel_value=255.0),\n",
            "], p=1.0, bbox_params={'format': 'coco', 'label_fields': ['bbox_labels'], 'min_area': 0.0, 'min_visibility': 0.0, 'min_width': 0.0, 'min_height': 0.0, 'check_each_transform': True}, keypoint_params={'format': 'xy', 'label_fields': ['class_labels'], 'remove_invisible': False, 'angle_in_degrees': True, 'check_each_transform': True}, additional_targets={}, is_check_shapes=True)\n",
            "Using 304 images and 16 for testing\n",
            "\n",
            "Starting pose model training...\n",
            "--------------------------------------------------\n",
            "Epoch 1/200 (lr=0.0005), train loss 0.00998\n",
            "Epoch 2/200 (lr=0.0005), train loss 0.00203\n",
            "Epoch 3/200 (lr=0.0005), train loss 0.00112\n",
            "Epoch 4/200 (lr=0.0005), train loss 0.00107\n",
            "Epoch 5/200 (lr=0.0005), train loss 0.00106\n",
            "Epoch 6/200 (lr=0.0005), train loss 0.00091\n",
            "Epoch 7/200 (lr=0.0005), train loss 0.00089\n",
            "Epoch 8/200 (lr=0.0005), train loss 0.00081\n",
            "Epoch 9/200 (lr=0.0005), train loss 0.00072\n",
            "Training for epoch 10 done, starting evaluation\n",
            "Epoch 10/200 (lr=0.0005), train loss 0.00067, valid loss 0.00082\n",
            "Model performance:\n",
            "  metrics/test.rmse:          92.87\n",
            "  metrics/test.rmse_pcutoff:   1.81\n",
            "  metrics/test.mAP:           45.37\n",
            "  metrics/test.mAR:           53.12\n",
            "Epoch 11/200 (lr=0.0005), train loss 0.00074\n",
            "Epoch 12/200 (lr=0.0005), train loss 0.00062\n",
            "Epoch 13/200 (lr=0.0005), train loss 0.00057\n",
            "Epoch 14/200 (lr=0.0005), train loss 0.00051\n",
            "Epoch 15/200 (lr=0.0005), train loss 0.00052\n",
            "Epoch 16/200 (lr=0.0005), train loss 0.00053\n",
            "Epoch 17/200 (lr=0.0005), train loss 0.00048\n",
            "Epoch 18/200 (lr=0.0005), train loss 0.00049\n",
            "Epoch 19/200 (lr=0.0005), train loss 0.00048\n",
            "Training for epoch 20 done, starting evaluation\n",
            "Epoch 20/200 (lr=0.0005), train loss 0.00049, valid loss 0.00065\n",
            "Model performance:\n",
            "  metrics/test.rmse:           4.01\n",
            "  metrics/test.rmse_pcutoff:   1.69\n",
            "  metrics/test.mAP:           97.92\n",
            "  metrics/test.mAR:           98.12\n",
            "Epoch 21/200 (lr=0.0005), train loss 0.00053\n",
            "Epoch 22/200 (lr=0.0005), train loss 0.00049\n",
            "Epoch 23/200 (lr=0.0005), train loss 0.00042\n",
            "Epoch 24/200 (lr=0.0005), train loss 0.00051\n",
            "Epoch 25/200 (lr=0.0005), train loss 0.00055\n",
            "Epoch 26/200 (lr=0.0005), train loss 0.00053\n",
            "Epoch 27/200 (lr=0.0005), train loss 0.00047\n",
            "Epoch 28/200 (lr=0.0005), train loss 0.00043\n",
            "Epoch 29/200 (lr=0.0005), train loss 0.00047\n",
            "Training for epoch 30 done, starting evaluation\n",
            "Epoch 30/200 (lr=0.0005), train loss 0.00053, valid loss 0.00064\n",
            "Model performance:\n",
            "  metrics/test.rmse:           2.65\n",
            "  metrics/test.rmse_pcutoff:   1.76\n",
            "  metrics/test.mAP:           98.61\n",
            "  metrics/test.mAR:           98.75\n",
            "Epoch 31/200 (lr=0.0005), train loss 0.00053\n",
            "Epoch 32/200 (lr=0.0005), train loss 0.00046\n",
            "Epoch 33/200 (lr=0.0005), train loss 0.00044\n",
            "Epoch 34/200 (lr=0.0005), train loss 0.00043\n",
            "Epoch 35/200 (lr=0.0005), train loss 0.00045\n",
            "Epoch 36/200 (lr=0.0005), train loss 0.00047\n",
            "Epoch 37/200 (lr=0.0005), train loss 0.00041\n",
            "Epoch 38/200 (lr=0.0005), train loss 0.00043\n",
            "Epoch 39/200 (lr=0.0005), train loss 0.00046\n",
            "Training for epoch 40 done, starting evaluation\n",
            "Epoch 40/200 (lr=0.0005), train loss 0.00044, valid loss 0.00069\n",
            "Model performance:\n",
            "  metrics/test.rmse:           2.78\n",
            "  metrics/test.rmse_pcutoff:   1.78\n",
            "  metrics/test.mAP:           98.61\n",
            "  metrics/test.mAR:           98.75\n",
            "Epoch 41/200 (lr=0.0005), train loss 0.00048\n",
            "Epoch 42/200 (lr=0.0005), train loss 0.00042\n",
            "Epoch 43/200 (lr=0.0005), train loss 0.00047\n",
            "Epoch 44/200 (lr=0.0005), train loss 0.00044\n",
            "Epoch 45/200 (lr=0.0005), train loss 0.00042\n",
            "Epoch 46/200 (lr=0.0005), train loss 0.00039\n",
            "Epoch 47/200 (lr=0.0005), train loss 0.00040\n",
            "Epoch 48/200 (lr=0.0005), train loss 0.00038\n",
            "Epoch 49/200 (lr=0.0005), train loss 0.00041\n",
            "Training for epoch 50 done, starting evaluation\n",
            "Epoch 50/200 (lr=0.0005), train loss 0.00043, valid loss 0.00066\n",
            "Model performance:\n",
            "  metrics/test.rmse:           2.79\n",
            "  metrics/test.rmse_pcutoff:   1.87\n",
            "  metrics/test.mAP:           98.61\n",
            "  metrics/test.mAR:           98.75\n",
            "Epoch 51/200 (lr=0.0005), train loss 0.00041\n",
            "Epoch 52/200 (lr=0.0005), train loss 0.00047\n",
            "Epoch 53/200 (lr=0.0005), train loss 0.00049\n",
            "Epoch 54/200 (lr=0.0005), train loss 0.00047\n",
            "Epoch 55/200 (lr=0.0005), train loss 0.00040\n",
            "Epoch 56/200 (lr=0.0005), train loss 0.00041\n",
            "Epoch 57/200 (lr=0.0005), train loss 0.00042\n",
            "Epoch 58/200 (lr=0.0005), train loss 0.00038\n",
            "Epoch 59/200 (lr=0.0005), train loss 0.00036\n",
            "Training for epoch 60 done, starting evaluation\n",
            "Epoch 60/200 (lr=0.0005), train loss 0.00041, valid loss 0.00054\n",
            "Model performance:\n",
            "  metrics/test.rmse:           1.80\n",
            "  metrics/test.rmse_pcutoff:   1.62\n",
            "  metrics/test.mAP:          100.00\n",
            "  metrics/test.mAR:          100.00\n",
            "Epoch 61/200 (lr=0.0005), train loss 0.00037\n",
            "Epoch 62/200 (lr=0.0005), train loss 0.00039\n",
            "Epoch 63/200 (lr=0.0005), train loss 0.00043\n",
            "Epoch 64/200 (lr=0.0005), train loss 0.00042\n",
            "Epoch 65/200 (lr=0.0005), train loss 0.00044\n",
            "Epoch 66/200 (lr=0.0005), train loss 0.00043\n",
            "Epoch 67/200 (lr=0.0005), train loss 0.00038\n",
            "Epoch 68/200 (lr=0.0005), train loss 0.00040\n",
            "Epoch 69/200 (lr=0.0005), train loss 0.00043\n",
            "Training for epoch 70 done, starting evaluation\n",
            "Epoch 70/200 (lr=0.0005), train loss 0.00041, valid loss 0.00055\n",
            "Model performance:\n",
            "  metrics/test.rmse:           2.43\n",
            "  metrics/test.rmse_pcutoff:   1.44\n",
            "  metrics/test.mAP:           98.61\n",
            "  metrics/test.mAR:           98.75\n",
            "Epoch 71/200 (lr=0.0005), train loss 0.00039\n",
            "Epoch 72/200 (lr=0.0005), train loss 0.00045\n",
            "Epoch 73/200 (lr=0.0005), train loss 0.00043\n",
            "Epoch 74/200 (lr=0.0005), train loss 0.00041\n",
            "Epoch 75/200 (lr=0.0005), train loss 0.00042\n",
            "Epoch 76/200 (lr=0.0005), train loss 0.00038\n",
            "Epoch 77/200 (lr=0.0005), train loss 0.00042\n",
            "Epoch 78/200 (lr=0.0005), train loss 0.00041\n",
            "Epoch 79/200 (lr=0.0005), train loss 0.00042\n",
            "Training for epoch 80 done, starting evaluation\n",
            "Epoch 80/200 (lr=0.0005), train loss 0.00041, valid loss 0.00061\n",
            "Model performance:\n",
            "  metrics/test.rmse:           1.85\n",
            "  metrics/test.rmse_pcutoff:   1.43\n",
            "  metrics/test.mAP:          100.00\n",
            "  metrics/test.mAR:          100.00\n",
            "Epoch 81/200 (lr=0.0005), train loss 0.00039\n",
            "Epoch 82/200 (lr=0.0005), train loss 0.00042\n",
            "Epoch 83/200 (lr=0.0005), train loss 0.00040\n",
            "Epoch 84/200 (lr=0.0005), train loss 0.00038\n",
            "Epoch 85/200 (lr=0.0005), train loss 0.00034\n"
          ]
        },
        {
          "output_type": "error",
          "ename": "KeyboardInterrupt",
          "evalue": "",
          "traceback": [
            "\u001b[0;31m---------------------------------------------------------------------------\u001b[0m",
            "\u001b[0;31mKeyboardInterrupt\u001b[0m                         Traceback (most recent call last)",
            "\u001b[0;32m/tmp/ipython-input-2289763262.py\u001b[0m in \u001b[0;36m<cell line: 0>\u001b[0;34m()\u001b[0m\n\u001b[1;32m     10\u001b[0m \u001b[0;31m#   https://deeplabcut.github.io/DeepLabCut/docs/standardDeepLabCut_UserGuide.html#g-train-the-network\u001b[0m\u001b[0;34m\u001b[0m\u001b[0;34m\u001b[0m\u001b[0m\n\u001b[1;32m     11\u001b[0m \u001b[0;34m\u001b[0m\u001b[0m\n\u001b[0;32m---> 12\u001b[0;31m deeplabcut.train_network(\n\u001b[0m\u001b[1;32m     13\u001b[0m     \u001b[0mpath_config_file\u001b[0m\u001b[0;34m,\u001b[0m\u001b[0;34m\u001b[0m\u001b[0;34m\u001b[0m\u001b[0m\n\u001b[1;32m     14\u001b[0m     \u001b[0msave_epochs\u001b[0m\u001b[0;34m=\u001b[0m\u001b[0;36m5\u001b[0m\u001b[0;34m,\u001b[0m\u001b[0;34m\u001b[0m\u001b[0;34m\u001b[0m\u001b[0m\n",
            "\u001b[0;32m/usr/local/lib/python3.12/dist-packages/deeplabcut/compat.py\u001b[0m in \u001b[0;36mtrain_network\u001b[0;34m(config, shuffle, trainingsetindex, max_snapshots_to_keep, displayiters, saveiters, maxiters, epochs, save_epochs, allow_growth, gputouse, autotune, keepdeconvweights, modelprefix, superanimal_name, superanimal_transfer_learning, engine, device, snapshot_path, detector_path, batch_size, detector_batch_size, detector_epochs, detector_save_epochs, pose_threshold, pytorch_cfg_updates)\u001b[0m\n\u001b[1;32m    285\u001b[0m         \u001b[0;32mfrom\u001b[0m \u001b[0mdeeplabcut\u001b[0m\u001b[0;34m.\u001b[0m\u001b[0mpose_estimation_pytorch\u001b[0m\u001b[0;34m.\u001b[0m\u001b[0mapis\u001b[0m \u001b[0;32mimport\u001b[0m \u001b[0mtrain_network\u001b[0m\u001b[0;34m\u001b[0m\u001b[0;34m\u001b[0m\u001b[0m\n\u001b[1;32m    286\u001b[0m \u001b[0;34m\u001b[0m\u001b[0m\n\u001b[0;32m--> 287\u001b[0;31m         return train_network(\n\u001b[0m\u001b[1;32m    288\u001b[0m             \u001b[0mconfig\u001b[0m\u001b[0;34m,\u001b[0m\u001b[0;34m\u001b[0m\u001b[0;34m\u001b[0m\u001b[0m\n\u001b[1;32m    289\u001b[0m             \u001b[0mshuffle\u001b[0m\u001b[0;34m=\u001b[0m\u001b[0mshuffle\u001b[0m\u001b[0;34m,\u001b[0m\u001b[0;34m\u001b[0m\u001b[0;34m\u001b[0m\u001b[0m\n",
            "\u001b[0;32m/usr/local/lib/python3.12/dist-packages/deeplabcut/pose_estimation_pytorch/apis/training.py\u001b[0m in \u001b[0;36mtrain_network\u001b[0;34m(config, shuffle, trainingsetindex, modelprefix, device, snapshot_path, detector_path, load_head_weights, batch_size, epochs, save_epochs, detector_batch_size, detector_epochs, detector_save_epochs, display_iters, max_snapshots_to_keep, pose_threshold, pytorch_cfg_updates)\u001b[0m\n\u001b[1;32m    358\u001b[0m \u001b[0;34m\u001b[0m\u001b[0m\n\u001b[1;32m    359\u001b[0m     \u001b[0;32mif\u001b[0m \u001b[0mloader\u001b[0m\u001b[0;34m.\u001b[0m\u001b[0mmodel_cfg\u001b[0m\u001b[0;34m[\u001b[0m\u001b[0;34m\"train_settings\"\u001b[0m\u001b[0;34m]\u001b[0m\u001b[0;34m[\u001b[0m\u001b[0;34m\"epochs\"\u001b[0m\u001b[0;34m]\u001b[0m \u001b[0;34m>\u001b[0m \u001b[0;36m0\u001b[0m\u001b[0;34m:\u001b[0m\u001b[0;34m\u001b[0m\u001b[0;34m\u001b[0m\u001b[0m\n\u001b[0;32m--> 360\u001b[0;31m         train(\n\u001b[0m\u001b[1;32m    361\u001b[0m             \u001b[0mloader\u001b[0m\u001b[0;34m=\u001b[0m\u001b[0mloader\u001b[0m\u001b[0;34m,\u001b[0m\u001b[0;34m\u001b[0m\u001b[0;34m\u001b[0m\u001b[0m\n\u001b[1;32m    362\u001b[0m             \u001b[0mrun_config\u001b[0m\u001b[0;34m=\u001b[0m\u001b[0mloader\u001b[0m\u001b[0;34m.\u001b[0m\u001b[0mmodel_cfg\u001b[0m\u001b[0;34m,\u001b[0m\u001b[0;34m\u001b[0m\u001b[0;34m\u001b[0m\u001b[0m\n",
            "\u001b[0;32m/usr/local/lib/python3.12/dist-packages/deeplabcut/pose_estimation_pytorch/apis/training.py\u001b[0m in \u001b[0;36mtrain\u001b[0;34m(loader, run_config, task, device, gpus, logger_config, snapshot_path, transform, inference_transform, max_snapshots_to_keep, load_head_weights)\u001b[0m\n\u001b[1;32m    190\u001b[0m         \u001b[0mlogging\u001b[0m\u001b[0;34m.\u001b[0m\u001b[0minfo\u001b[0m\u001b[0;34m(\u001b[0m\u001b[0;34m\"\\nStarting pose model training...\\n\"\u001b[0m \u001b[0;34m+\u001b[0m \u001b[0;34m(\u001b[0m\u001b[0;36m50\u001b[0m \u001b[0;34m*\u001b[0m \u001b[0;34m\"-\"\u001b[0m\u001b[0;34m)\u001b[0m\u001b[0;34m)\u001b[0m\u001b[0;34m\u001b[0m\u001b[0;34m\u001b[0m\u001b[0m\n\u001b[1;32m    191\u001b[0m \u001b[0;34m\u001b[0m\u001b[0m\n\u001b[0;32m--> 192\u001b[0;31m     runner.fit(\n\u001b[0m\u001b[1;32m    193\u001b[0m         \u001b[0mtrain_dataloader\u001b[0m\u001b[0;34m,\u001b[0m\u001b[0;34m\u001b[0m\u001b[0;34m\u001b[0m\u001b[0m\n\u001b[1;32m    194\u001b[0m         \u001b[0mvalid_dataloader\u001b[0m\u001b[0;34m,\u001b[0m\u001b[0;34m\u001b[0m\u001b[0;34m\u001b[0m\u001b[0m\n",
            "\u001b[0;32m/usr/local/lib/python3.12/dist-packages/deeplabcut/pose_estimation_pytorch/runners/train.py\u001b[0m in \u001b[0;36mfit\u001b[0;34m(self, train_loader, valid_loader, epochs, display_iters)\u001b[0m\n\u001b[1;32m    212\u001b[0m             \u001b[0mself\u001b[0m\u001b[0;34m.\u001b[0m\u001b[0mcurrent_epoch\u001b[0m \u001b[0;34m=\u001b[0m \u001b[0me\u001b[0m\u001b[0;34m\u001b[0m\u001b[0;34m\u001b[0m\u001b[0m\n\u001b[1;32m    213\u001b[0m             \u001b[0mself\u001b[0m\u001b[0;34m.\u001b[0m\u001b[0m_metadata\u001b[0m\u001b[0;34m[\u001b[0m\u001b[0;34m\"epoch\"\u001b[0m\u001b[0;34m]\u001b[0m \u001b[0;34m=\u001b[0m \u001b[0me\u001b[0m\u001b[0;34m\u001b[0m\u001b[0;34m\u001b[0m\u001b[0m\n\u001b[0;32m--> 214\u001b[0;31m             train_loss = self._epoch(\n\u001b[0m\u001b[1;32m    215\u001b[0m                 \u001b[0mtrain_loader\u001b[0m\u001b[0;34m,\u001b[0m \u001b[0mmode\u001b[0m\u001b[0;34m=\u001b[0m\u001b[0;34m\"train\"\u001b[0m\u001b[0;34m,\u001b[0m \u001b[0mdisplay_iters\u001b[0m\u001b[0;34m=\u001b[0m\u001b[0mdisplay_iters\u001b[0m\u001b[0;34m\u001b[0m\u001b[0;34m\u001b[0m\u001b[0m\n\u001b[1;32m    216\u001b[0m             )\n",
            "\u001b[0;32m/usr/local/lib/python3.12/dist-packages/deeplabcut/pose_estimation_pytorch/runners/train.py\u001b[0m in \u001b[0;36m_epoch\u001b[0;34m(self, loader, mode, display_iters)\u001b[0m\n\u001b[1;32m    273\u001b[0m         \u001b[0mepoch_loss\u001b[0m \u001b[0;34m=\u001b[0m \u001b[0;34m[\u001b[0m\u001b[0;34m]\u001b[0m\u001b[0;34m\u001b[0m\u001b[0;34m\u001b[0m\u001b[0m\n\u001b[1;32m    274\u001b[0m         \u001b[0mloss_metrics\u001b[0m \u001b[0;34m=\u001b[0m \u001b[0mdefaultdict\u001b[0m\u001b[0;34m(\u001b[0m\u001b[0mlist\u001b[0m\u001b[0;34m)\u001b[0m\u001b[0;34m\u001b[0m\u001b[0;34m\u001b[0m\u001b[0m\n\u001b[0;32m--> 275\u001b[0;31m         \u001b[0;32mfor\u001b[0m \u001b[0mi\u001b[0m\u001b[0;34m,\u001b[0m \u001b[0mbatch\u001b[0m \u001b[0;32min\u001b[0m \u001b[0menumerate\u001b[0m\u001b[0;34m(\u001b[0m\u001b[0mloader\u001b[0m\u001b[0;34m)\u001b[0m\u001b[0;34m:\u001b[0m\u001b[0;34m\u001b[0m\u001b[0;34m\u001b[0m\u001b[0m\n\u001b[0m\u001b[1;32m    276\u001b[0m             \u001b[0mlosses_dict\u001b[0m \u001b[0;34m=\u001b[0m \u001b[0mself\u001b[0m\u001b[0;34m.\u001b[0m\u001b[0mstep\u001b[0m\u001b[0;34m(\u001b[0m\u001b[0mbatch\u001b[0m\u001b[0;34m,\u001b[0m \u001b[0mmode\u001b[0m\u001b[0;34m)\u001b[0m\u001b[0;34m\u001b[0m\u001b[0;34m\u001b[0m\u001b[0m\n\u001b[1;32m    277\u001b[0m             \u001b[0;32mif\u001b[0m \u001b[0;34m\"total_loss\"\u001b[0m \u001b[0;32min\u001b[0m \u001b[0mlosses_dict\u001b[0m\u001b[0;34m:\u001b[0m\u001b[0;34m\u001b[0m\u001b[0;34m\u001b[0m\u001b[0m\n",
            "\u001b[0;32m/usr/local/lib/python3.12/dist-packages/torch/utils/data/dataloader.py\u001b[0m in \u001b[0;36m__next__\u001b[0;34m(self)\u001b[0m\n\u001b[1;32m    732\u001b[0m                 \u001b[0;31m# TODO(https://github.com/pytorch/pytorch/issues/76750)\u001b[0m\u001b[0;34m\u001b[0m\u001b[0;34m\u001b[0m\u001b[0m\n\u001b[1;32m    733\u001b[0m                 \u001b[0mself\u001b[0m\u001b[0;34m.\u001b[0m\u001b[0m_reset\u001b[0m\u001b[0;34m(\u001b[0m\u001b[0;34m)\u001b[0m  \u001b[0;31m# type: ignore[call-arg]\u001b[0m\u001b[0;34m\u001b[0m\u001b[0;34m\u001b[0m\u001b[0m\n\u001b[0;32m--> 734\u001b[0;31m             \u001b[0mdata\u001b[0m \u001b[0;34m=\u001b[0m \u001b[0mself\u001b[0m\u001b[0;34m.\u001b[0m\u001b[0m_next_data\u001b[0m\u001b[0;34m(\u001b[0m\u001b[0;34m)\u001b[0m\u001b[0;34m\u001b[0m\u001b[0;34m\u001b[0m\u001b[0m\n\u001b[0m\u001b[1;32m    735\u001b[0m             \u001b[0mself\u001b[0m\u001b[0;34m.\u001b[0m\u001b[0m_num_yielded\u001b[0m \u001b[0;34m+=\u001b[0m \u001b[0;36m1\u001b[0m\u001b[0;34m\u001b[0m\u001b[0;34m\u001b[0m\u001b[0m\n\u001b[1;32m    736\u001b[0m             if (\n",
            "\u001b[0;32m/usr/local/lib/python3.12/dist-packages/torch/utils/data/dataloader.py\u001b[0m in \u001b[0;36m_next_data\u001b[0;34m(self)\u001b[0m\n\u001b[1;32m    788\u001b[0m     \u001b[0;32mdef\u001b[0m \u001b[0m_next_data\u001b[0m\u001b[0;34m(\u001b[0m\u001b[0mself\u001b[0m\u001b[0;34m)\u001b[0m\u001b[0;34m:\u001b[0m\u001b[0;34m\u001b[0m\u001b[0;34m\u001b[0m\u001b[0m\n\u001b[1;32m    789\u001b[0m         \u001b[0mindex\u001b[0m \u001b[0;34m=\u001b[0m \u001b[0mself\u001b[0m\u001b[0;34m.\u001b[0m\u001b[0m_next_index\u001b[0m\u001b[0;34m(\u001b[0m\u001b[0;34m)\u001b[0m  \u001b[0;31m# may raise StopIteration\u001b[0m\u001b[0;34m\u001b[0m\u001b[0;34m\u001b[0m\u001b[0m\n\u001b[0;32m--> 790\u001b[0;31m         \u001b[0mdata\u001b[0m \u001b[0;34m=\u001b[0m \u001b[0mself\u001b[0m\u001b[0;34m.\u001b[0m\u001b[0m_dataset_fetcher\u001b[0m\u001b[0;34m.\u001b[0m\u001b[0mfetch\u001b[0m\u001b[0;34m(\u001b[0m\u001b[0mindex\u001b[0m\u001b[0;34m)\u001b[0m  \u001b[0;31m# may raise StopIteration\u001b[0m\u001b[0;34m\u001b[0m\u001b[0;34m\u001b[0m\u001b[0m\n\u001b[0m\u001b[1;32m    791\u001b[0m         \u001b[0;32mif\u001b[0m \u001b[0mself\u001b[0m\u001b[0;34m.\u001b[0m\u001b[0m_pin_memory\u001b[0m\u001b[0;34m:\u001b[0m\u001b[0;34m\u001b[0m\u001b[0;34m\u001b[0m\u001b[0m\n\u001b[1;32m    792\u001b[0m             \u001b[0mdata\u001b[0m \u001b[0;34m=\u001b[0m \u001b[0m_utils\u001b[0m\u001b[0;34m.\u001b[0m\u001b[0mpin_memory\u001b[0m\u001b[0;34m.\u001b[0m\u001b[0mpin_memory\u001b[0m\u001b[0;34m(\u001b[0m\u001b[0mdata\u001b[0m\u001b[0;34m,\u001b[0m \u001b[0mself\u001b[0m\u001b[0;34m.\u001b[0m\u001b[0m_pin_memory_device\u001b[0m\u001b[0;34m)\u001b[0m\u001b[0;34m\u001b[0m\u001b[0;34m\u001b[0m\u001b[0m\n",
            "\u001b[0;32m/usr/local/lib/python3.12/dist-packages/torch/utils/data/_utils/fetch.py\u001b[0m in \u001b[0;36mfetch\u001b[0;34m(self, possibly_batched_index)\u001b[0m\n\u001b[1;32m     50\u001b[0m                 \u001b[0mdata\u001b[0m \u001b[0;34m=\u001b[0m \u001b[0mself\u001b[0m\u001b[0;34m.\u001b[0m\u001b[0mdataset\u001b[0m\u001b[0;34m.\u001b[0m\u001b[0m__getitems__\u001b[0m\u001b[0;34m(\u001b[0m\u001b[0mpossibly_batched_index\u001b[0m\u001b[0;34m)\u001b[0m\u001b[0;34m\u001b[0m\u001b[0;34m\u001b[0m\u001b[0m\n\u001b[1;32m     51\u001b[0m             \u001b[0;32melse\u001b[0m\u001b[0;34m:\u001b[0m\u001b[0;34m\u001b[0m\u001b[0;34m\u001b[0m\u001b[0m\n\u001b[0;32m---> 52\u001b[0;31m                 \u001b[0mdata\u001b[0m \u001b[0;34m=\u001b[0m \u001b[0;34m[\u001b[0m\u001b[0mself\u001b[0m\u001b[0;34m.\u001b[0m\u001b[0mdataset\u001b[0m\u001b[0;34m[\u001b[0m\u001b[0midx\u001b[0m\u001b[0;34m]\u001b[0m \u001b[0;32mfor\u001b[0m \u001b[0midx\u001b[0m \u001b[0;32min\u001b[0m \u001b[0mpossibly_batched_index\u001b[0m\u001b[0;34m]\u001b[0m\u001b[0;34m\u001b[0m\u001b[0;34m\u001b[0m\u001b[0m\n\u001b[0m\u001b[1;32m     53\u001b[0m         \u001b[0;32melse\u001b[0m\u001b[0;34m:\u001b[0m\u001b[0;34m\u001b[0m\u001b[0;34m\u001b[0m\u001b[0m\n\u001b[1;32m     54\u001b[0m             \u001b[0mdata\u001b[0m \u001b[0;34m=\u001b[0m \u001b[0mself\u001b[0m\u001b[0;34m.\u001b[0m\u001b[0mdataset\u001b[0m\u001b[0;34m[\u001b[0m\u001b[0mpossibly_batched_index\u001b[0m\u001b[0;34m]\u001b[0m\u001b[0;34m\u001b[0m\u001b[0;34m\u001b[0m\u001b[0m\n",
            "\u001b[0;32m/usr/local/lib/python3.12/dist-packages/deeplabcut/pose_estimation_pytorch/data/dataset.py\u001b[0m in \u001b[0;36m__getitem__\u001b[0;34m(self, index)\u001b[0m\n\u001b[1;32m    190\u001b[0m         \"\"\"\n\u001b[1;32m    191\u001b[0m         \u001b[0mimage_path\u001b[0m\u001b[0;34m,\u001b[0m \u001b[0manns\u001b[0m\u001b[0;34m,\u001b[0m \u001b[0mimage_id\u001b[0m \u001b[0;34m=\u001b[0m \u001b[0mself\u001b[0m\u001b[0;34m.\u001b[0m\u001b[0m_get_data_based_on_task\u001b[0m\u001b[0;34m(\u001b[0m\u001b[0mindex\u001b[0m\u001b[0;34m)\u001b[0m\u001b[0;34m\u001b[0m\u001b[0;34m\u001b[0m\u001b[0m\n\u001b[0;32m--> 192\u001b[0;31m         \u001b[0mimage\u001b[0m \u001b[0;34m=\u001b[0m \u001b[0mload_image\u001b[0m\u001b[0;34m(\u001b[0m\u001b[0mimage_path\u001b[0m\u001b[0;34m,\u001b[0m \u001b[0mcolor_mode\u001b[0m\u001b[0;34m=\u001b[0m\u001b[0mself\u001b[0m\u001b[0;34m.\u001b[0m\u001b[0mparameters\u001b[0m\u001b[0;34m.\u001b[0m\u001b[0mcolor_mode\u001b[0m\u001b[0;34m)\u001b[0m\u001b[0;34m\u001b[0m\u001b[0;34m\u001b[0m\u001b[0m\n\u001b[0m\u001b[1;32m    193\u001b[0m         \u001b[0moriginal_size\u001b[0m \u001b[0;34m=\u001b[0m \u001b[0mimage\u001b[0m\u001b[0;34m.\u001b[0m\u001b[0mshape\u001b[0m\u001b[0;34m\u001b[0m\u001b[0;34m\u001b[0m\u001b[0m\n\u001b[1;32m    194\u001b[0m         (\n",
            "\u001b[0;32m/usr/local/lib/python3.12/dist-packages/deeplabcut/pose_estimation_pytorch/data/image.py\u001b[0m in \u001b[0;36mload_image\u001b[0;34m(filepath, color_mode)\u001b[0m\n\u001b[1;32m     33\u001b[0m         \u001b[0mthe\u001b[0m \u001b[0mimage\u001b[0m \u001b[0;32mas\u001b[0m \u001b[0ma\u001b[0m \u001b[0mnumpy\u001b[0m \u001b[0marray\u001b[0m\u001b[0;34m\u001b[0m\u001b[0;34m\u001b[0m\u001b[0m\n\u001b[1;32m     34\u001b[0m     \"\"\"\n\u001b[0;32m---> 35\u001b[0;31m     \u001b[0mimage\u001b[0m \u001b[0;34m=\u001b[0m \u001b[0mcv2\u001b[0m\u001b[0;34m.\u001b[0m\u001b[0mimread\u001b[0m\u001b[0;34m(\u001b[0m\u001b[0mstr\u001b[0m\u001b[0;34m(\u001b[0m\u001b[0mfilepath\u001b[0m\u001b[0;34m)\u001b[0m\u001b[0;34m)\u001b[0m\u001b[0;34m\u001b[0m\u001b[0;34m\u001b[0m\u001b[0m\n\u001b[0m\u001b[1;32m     36\u001b[0m     \u001b[0;32mif\u001b[0m \u001b[0mcolor_mode\u001b[0m \u001b[0;34m==\u001b[0m \u001b[0;34m\"RGB\"\u001b[0m\u001b[0;34m:\u001b[0m\u001b[0;34m\u001b[0m\u001b[0;34m\u001b[0m\u001b[0m\n\u001b[1;32m     37\u001b[0m         \u001b[0mimage\u001b[0m \u001b[0;34m=\u001b[0m \u001b[0mcv2\u001b[0m\u001b[0;34m.\u001b[0m\u001b[0mcvtColor\u001b[0m\u001b[0;34m(\u001b[0m\u001b[0mimage\u001b[0m\u001b[0;34m,\u001b[0m \u001b[0mcv2\u001b[0m\u001b[0;34m.\u001b[0m\u001b[0mCOLOR_BGR2RGB\u001b[0m\u001b[0;34m)\u001b[0m\u001b[0;34m\u001b[0m\u001b[0;34m\u001b[0m\u001b[0m\n",
            "\u001b[0;31mKeyboardInterrupt\u001b[0m: "
          ]
        }
      ],
      "source": [
        "# Let's also change the display and save_epochs just in case Colab takes away\n",
        "# the GPU... If that happens, you can reload from a saved point using the\n",
        "# `snapshot_path` argument to `deeplabcut.train_network`:\n",
        "#   deeplabcut.train_network(..., snapshot_path=\"/content/.../snapshot-050.pt\")\n",
        "\n",
        "# Typically, you want to train to ~200 epochs. We set the batch size to 8 to\n",
        "# utilize the GPU's capabilities.\n",
        "\n",
        "# More info and there are more things you can set:\n",
        "#   https://deeplabcut.github.io/DeepLabCut/docs/standardDeepLabCut_UserGuide.html#g-train-the-network\n",
        "\n",
        "deeplabcut.train_network(\n",
        "    path_config_file,\n",
        "    save_epochs=5,\n",
        "    batch_size=32,\n",
        "    epochs=200,\n",
        "    superanimal_name=superanimal_name,\n",
        "    superanimal_transfer_learning=True,  # True=迁移学习（新解码层，点数不必与 SA 模型一致）\n",
        "    # superanimal_transfer_learning=False  # False=微调，需与 SA 模型关键点数一致（Quadruped=39个）\n",
        ")\n",
        "\n",
        "# This will run until you stop it (CTRL+C), or hit \"STOP\" icon, or when it hits the end."
      ]
    },
    {
      "cell_type": "markdown",
      "metadata": {
        "id": "RiDwIVf5-3H_"
      },
      "source": [
        "Note, that **when you hit \"STOP\" you will get a `KeyboardInterrupt` \"error\"! No worries! :)**"
      ]
    },
    {
      "cell_type": "markdown",
      "metadata": {
        "id": "xZygsb2DoEJc"
      },
      "source": [
        "## Start evaluating:\n",
        "This function evaluates a trained model for a specific shuffle/shuffles at a particular state or all the states on the data set (images)\n",
        "and stores the results as .csv file in a subdirectory under **evaluation-results-pytorch**"
      ]
    },
    {
      "cell_type": "code",
      "execution_count": 11,
      "metadata": {
        "id": "nv4zlbrnoEJg",
        "outputId": "b8398e63-ff32-463e-dd0b-9515f61e9cfe",
        "colab": {
          "base_uri": "https://localhost:8080/"
        }
      },
      "outputs": [
        {
          "output_type": "stream",
          "name": "stdout",
          "text": [
            "Evaluation scorer: DLC_Resnet50_ratrun2Sep14shuffle1_snapshot_best-60\n"
          ]
        },
        {
          "output_type": "stream",
          "name": "stderr",
          "text": [
            "100%|██████████| 304/304 [00:22<00:00, 13.50it/s]\n",
            "100%|██████████| 16/16 [00:01<00:00, 13.86it/s]\n"
          ]
        },
        {
          "output_type": "stream",
          "name": "stdout",
          "text": [
            "Evaluation results file: DLC_Resnet50_ratrun2Sep14shuffle1_snapshot_best-60-results.csv\n",
            "Evaluation results for DLC_Resnet50_ratrun2Sep14shuffle1_snapshot_best-60-results.csv (pcutoff: 0.6):\n",
            "train rmse              1.48\n",
            "train rmse_pcutoff      1.46\n",
            "train mAP             100.00\n",
            "train mAR             100.00\n",
            "test rmse               1.80\n",
            "test rmse_pcutoff       1.62\n",
            "test mAP              100.00\n",
            "test mAR              100.00\n",
            "Name: (0.95, 1, 60, -1, 0.6), dtype: float64\n"
          ]
        }
      ],
      "source": [
        "deeplabcut.evaluate_network(path_config_file, plotting=True)\n",
        "\n",
        "# Here you want to see a low pixel error! Of course, it can only be as\n",
        "# good as the labeler, so be sure your labels are good!\n"
      ]
    },
    {
      "cell_type": "markdown",
      "metadata": {
        "id": "BaLBl3TQtrfB"
      },
      "source": [
        "## There is an optional refinement step you can do outside of Colab:\n",
        "- if your pixel errors are not low enough, please check out the protocol guide on how to refine your network!\n",
        "- You will need to adjust the labels **outside of Colab!** We recommend coming back to train and analyze videos...\n",
        "- Please see the repo and protocol instructions on how to refine your data!"
      ]
    },
    {
      "cell_type": "markdown",
      "metadata": {
        "id": "OVFLSKKfoEJk"
      },
      "source": [
        "## Start Analyzing videos:\n",
        "This function analyzes the new video. The user can choose the best model from the evaluation results and specify the correct snapshot index for the variable **snapshotindex** in the **config.yaml** file. Otherwise, by default the most recent snapshot is used to analyse the video.\n",
        "\n",
        "The results are stored in hd5 file in the same directory where the video resides."
      ]
    },
    {
      "cell_type": "code",
      "execution_count": 14,
      "metadata": {
        "id": "Y_LZiS_0oEJl",
        "outputId": "1897273d-494c-4e58-89e7-f5acd5e67536",
        "colab": {
          "base_uri": "https://localhost:8080/",
          "height": 1000
        }
      },
      "outputs": [
        {
          "output_type": "stream",
          "name": "stdout",
          "text": [
            "Creating the output folder /content/drive/MyDrive/ratrun2-ziyu-2025-09-14/labeled-videos\n",
            "Successfully loaded snapshot: /content/drive/MyDrive/ratrun2-ziyu-2025-09-14/dlc-models-pytorch/iteration-0/ratrun2Sep14-trainset95shuffle1/train/snapshot-best-060.pt\n",
            "Analyzing videos with /content/drive/MyDrive/ratrun2-ziyu-2025-09-14/dlc-models-pytorch/iteration-0/ratrun2Sep14-trainset95shuffle1/train/snapshot-best-060.pt\n",
            "Using scorer: DLC_Resnet50_ratrun2Sep14shuffle1_snapshot_best-60\n",
            "Starting to analyze /content/drive/MyDrive/ratrun2-ziyu-2025-09-14/videos/06ch6.mp4\n",
            "Video metadata: \n",
            "  Overall # of frames:    600\n",
            "  Duration of video [s]:  5.01\n",
            "  fps:                    119.88\n",
            "  resolution:             w=1920, h=1080\n",
            "\n",
            "Running pose prediction with batch size 8\n"
          ]
        },
        {
          "output_type": "stream",
          "name": "stderr",
          "text": [
            "100%|██████████| 600/600 [00:43<00:00, 13.64it/s]\n"
          ]
        },
        {
          "output_type": "stream",
          "name": "stdout",
          "text": [
            "Saving results in /content/drive/MyDrive/ratrun2-ziyu-2025-09-14/labeled-videos/06ch6DLC_Resnet50_ratrun2Sep14shuffle1_snapshot_best-60.h5 and /content/drive/MyDrive/ratrun2-ziyu-2025-09-14/labeled-videos/06ch6DLC_Resnet50_ratrun2Sep14shuffle1_snapshot_best-60_full.pickle\n",
            "Starting to analyze /content/drive/MyDrive/ratrun2-ziyu-2025-09-14/videos/02ch5.mp4\n",
            "Video metadata: \n",
            "  Overall # of frames:    600\n",
            "  Duration of video [s]:  5.01\n",
            "  fps:                    119.88\n",
            "  resolution:             w=1920, h=1080\n",
            "\n",
            "Running pose prediction with batch size 8\n"
          ]
        },
        {
          "output_type": "stream",
          "name": "stderr",
          "text": [
            "100%|██████████| 600/600 [00:43<00:00, 13.69it/s]\n"
          ]
        },
        {
          "output_type": "stream",
          "name": "stdout",
          "text": [
            "Saving results in /content/drive/MyDrive/ratrun2-ziyu-2025-09-14/labeled-videos/02ch5DLC_Resnet50_ratrun2Sep14shuffle1_snapshot_best-60.h5 and /content/drive/MyDrive/ratrun2-ziyu-2025-09-14/labeled-videos/02ch5DLC_Resnet50_ratrun2Sep14shuffle1_snapshot_best-60_full.pickle\n",
            "Starting to analyze /content/drive/MyDrive/ratrun2-ziyu-2025-09-14/videos/01ch5.mp4\n",
            "Video metadata: \n",
            "  Overall # of frames:    600\n",
            "  Duration of video [s]:  5.01\n",
            "  fps:                    119.88\n",
            "  resolution:             w=1920, h=1080\n",
            "\n",
            "Running pose prediction with batch size 8\n"
          ]
        },
        {
          "output_type": "stream",
          "name": "stderr",
          "text": [
            "100%|██████████| 600/600 [00:43<00:00, 13.71it/s]\n"
          ]
        },
        {
          "output_type": "stream",
          "name": "stdout",
          "text": [
            "Saving results in /content/drive/MyDrive/ratrun2-ziyu-2025-09-14/labeled-videos/01ch5DLC_Resnet50_ratrun2Sep14shuffle1_snapshot_best-60.h5 and /content/drive/MyDrive/ratrun2-ziyu-2025-09-14/labeled-videos/01ch5DLC_Resnet50_ratrun2Sep14shuffle1_snapshot_best-60_full.pickle\n",
            "Starting to analyze /content/drive/MyDrive/ratrun2-ziyu-2025-09-14/videos/15sham.mp4\n",
            "Video metadata: \n",
            "  Overall # of frames:    600\n",
            "  Duration of video [s]:  5.01\n",
            "  fps:                    119.88\n",
            "  resolution:             w=1920, h=1080\n",
            "\n",
            "Running pose prediction with batch size 8\n"
          ]
        },
        {
          "output_type": "stream",
          "name": "stderr",
          "text": [
            "100%|██████████| 600/600 [00:44<00:00, 13.58it/s]\n"
          ]
        },
        {
          "output_type": "stream",
          "name": "stdout",
          "text": [
            "Saving results in /content/drive/MyDrive/ratrun2-ziyu-2025-09-14/labeled-videos/15shamDLC_Resnet50_ratrun2Sep14shuffle1_snapshot_best-60.h5 and /content/drive/MyDrive/ratrun2-ziyu-2025-09-14/labeled-videos/15shamDLC_Resnet50_ratrun2Sep14shuffle1_snapshot_best-60_full.pickle\n",
            "Starting to analyze /content/drive/MyDrive/ratrun2-ziyu-2025-09-14/videos/09pt5.mp4\n",
            "Video metadata: \n",
            "  Overall # of frames:    600\n",
            "  Duration of video [s]:  5.01\n",
            "  fps:                    119.88\n",
            "  resolution:             w=1920, h=1080\n",
            "\n",
            "Running pose prediction with batch size 8\n"
          ]
        },
        {
          "output_type": "stream",
          "name": "stderr",
          "text": [
            "100%|██████████| 600/600 [00:44<00:00, 13.51it/s]\n"
          ]
        },
        {
          "output_type": "stream",
          "name": "stdout",
          "text": [
            "Saving results in /content/drive/MyDrive/ratrun2-ziyu-2025-09-14/labeled-videos/09pt5DLC_Resnet50_ratrun2Sep14shuffle1_snapshot_best-60.h5 and /content/drive/MyDrive/ratrun2-ziyu-2025-09-14/labeled-videos/09pt5DLC_Resnet50_ratrun2Sep14shuffle1_snapshot_best-60_full.pickle\n",
            "Starting to analyze /content/drive/MyDrive/ratrun2-ziyu-2025-09-14/videos/11pt5.mp4\n",
            "Video metadata: \n",
            "  Overall # of frames:    600\n",
            "  Duration of video [s]:  5.01\n",
            "  fps:                    119.88\n",
            "  resolution:             w=1920, h=1080\n",
            "\n",
            "Running pose prediction with batch size 8\n"
          ]
        },
        {
          "output_type": "stream",
          "name": "stderr",
          "text": [
            "100%|██████████| 600/600 [00:44<00:00, 13.58it/s]\n"
          ]
        },
        {
          "output_type": "stream",
          "name": "stdout",
          "text": [
            "Saving results in /content/drive/MyDrive/ratrun2-ziyu-2025-09-14/labeled-videos/11pt5DLC_Resnet50_ratrun2Sep14shuffle1_snapshot_best-60.h5 and /content/drive/MyDrive/ratrun2-ziyu-2025-09-14/labeled-videos/11pt5DLC_Resnet50_ratrun2Sep14shuffle1_snapshot_best-60_full.pickle\n",
            "Starting to analyze /content/drive/MyDrive/ratrun2-ziyu-2025-09-14/videos/10pt5.mp4\n",
            "Video metadata: \n",
            "  Overall # of frames:    600\n",
            "  Duration of video [s]:  5.01\n",
            "  fps:                    119.88\n",
            "  resolution:             w=1920, h=1080\n",
            "\n",
            "Running pose prediction with batch size 8\n"
          ]
        },
        {
          "output_type": "stream",
          "name": "stderr",
          "text": [
            "100%|██████████| 600/600 [00:44<00:00, 13.57it/s]\n"
          ]
        },
        {
          "output_type": "stream",
          "name": "stdout",
          "text": [
            "Saving results in /content/drive/MyDrive/ratrun2-ziyu-2025-09-14/labeled-videos/10pt5DLC_Resnet50_ratrun2Sep14shuffle1_snapshot_best-60.h5 and /content/drive/MyDrive/ratrun2-ziyu-2025-09-14/labeled-videos/10pt5DLC_Resnet50_ratrun2Sep14shuffle1_snapshot_best-60_full.pickle\n",
            "Starting to analyze /content/drive/MyDrive/ratrun2-ziyu-2025-09-14/videos/04ch6.mp4\n",
            "Video metadata: \n",
            "  Overall # of frames:    600\n",
            "  Duration of video [s]:  5.01\n",
            "  fps:                    119.88\n",
            "  resolution:             w=1920, h=1080\n",
            "\n",
            "Running pose prediction with batch size 8\n"
          ]
        },
        {
          "output_type": "stream",
          "name": "stderr",
          "text": [
            "100%|██████████| 600/600 [00:44<00:00, 13.60it/s]\n"
          ]
        },
        {
          "output_type": "stream",
          "name": "stdout",
          "text": [
            "Saving results in /content/drive/MyDrive/ratrun2-ziyu-2025-09-14/labeled-videos/04ch6DLC_Resnet50_ratrun2Sep14shuffle1_snapshot_best-60.h5 and /content/drive/MyDrive/ratrun2-ziyu-2025-09-14/labeled-videos/04ch6DLC_Resnet50_ratrun2Sep14shuffle1_snapshot_best-60_full.pickle\n",
            "Starting to analyze /content/drive/MyDrive/ratrun2-ziyu-2025-09-14/videos/08intact.mp4\n",
            "Video metadata: \n",
            "  Overall # of frames:    600\n",
            "  Duration of video [s]:  5.01\n",
            "  fps:                    119.88\n",
            "  resolution:             w=1920, h=1080\n",
            "\n",
            "Running pose prediction with batch size 8\n"
          ]
        },
        {
          "output_type": "stream",
          "name": "stderr",
          "text": [
            "100%|██████████| 600/600 [00:44<00:00, 13.61it/s]\n"
          ]
        },
        {
          "output_type": "stream",
          "name": "stdout",
          "text": [
            "Saving results in /content/drive/MyDrive/ratrun2-ziyu-2025-09-14/labeled-videos/08intactDLC_Resnet50_ratrun2Sep14shuffle1_snapshot_best-60.h5 and /content/drive/MyDrive/ratrun2-ziyu-2025-09-14/labeled-videos/08intactDLC_Resnet50_ratrun2Sep14shuffle1_snapshot_best-60_full.pickle\n",
            "Starting to analyze /content/drive/MyDrive/ratrun2-ziyu-2025-09-14/videos/07intact.mp4\n",
            "Video metadata: \n",
            "  Overall # of frames:    600\n",
            "  Duration of video [s]:  5.01\n",
            "  fps:                    119.88\n",
            "  resolution:             w=1920, h=1080\n",
            "\n",
            "Running pose prediction with batch size 8\n"
          ]
        },
        {
          "output_type": "stream",
          "name": "stderr",
          "text": [
            "100%|██████████| 600/600 [00:43<00:00, 13.70it/s]\n"
          ]
        },
        {
          "output_type": "stream",
          "name": "stdout",
          "text": [
            "Saving results in /content/drive/MyDrive/ratrun2-ziyu-2025-09-14/labeled-videos/07intactDLC_Resnet50_ratrun2Sep14shuffle1_snapshot_best-60.h5 and /content/drive/MyDrive/ratrun2-ziyu-2025-09-14/labeled-videos/07intactDLC_Resnet50_ratrun2Sep14shuffle1_snapshot_best-60_full.pickle\n",
            "Starting to analyze /content/drive/MyDrive/ratrun2-ziyu-2025-09-14/videos/05ch6.mp4\n",
            "Video metadata: \n",
            "  Overall # of frames:    600\n",
            "  Duration of video [s]:  5.01\n",
            "  fps:                    119.88\n",
            "  resolution:             w=1920, h=1080\n",
            "\n",
            "Running pose prediction with batch size 8\n"
          ]
        },
        {
          "output_type": "stream",
          "name": "stderr",
          "text": [
            "100%|██████████| 600/600 [00:44<00:00, 13.60it/s]\n"
          ]
        },
        {
          "output_type": "stream",
          "name": "stdout",
          "text": [
            "Saving results in /content/drive/MyDrive/ratrun2-ziyu-2025-09-14/labeled-videos/05ch6DLC_Resnet50_ratrun2Sep14shuffle1_snapshot_best-60.h5 and /content/drive/MyDrive/ratrun2-ziyu-2025-09-14/labeled-videos/05ch6DLC_Resnet50_ratrun2Sep14shuffle1_snapshot_best-60_full.pickle\n",
            "Starting to analyze /content/drive/MyDrive/ratrun2-ziyu-2025-09-14/videos/03ch5.mp4\n",
            "Video metadata: \n",
            "  Overall # of frames:    600\n",
            "  Duration of video [s]:  5.01\n",
            "  fps:                    119.88\n",
            "  resolution:             w=1920, h=1080\n",
            "\n",
            "Running pose prediction with batch size 8\n"
          ]
        },
        {
          "output_type": "stream",
          "name": "stderr",
          "text": [
            "100%|██████████| 600/600 [00:44<00:00, 13.60it/s]\n"
          ]
        },
        {
          "output_type": "stream",
          "name": "stdout",
          "text": [
            "Saving results in /content/drive/MyDrive/ratrun2-ziyu-2025-09-14/labeled-videos/03ch5DLC_Resnet50_ratrun2Sep14shuffle1_snapshot_best-60.h5 and /content/drive/MyDrive/ratrun2-ziyu-2025-09-14/labeled-videos/03ch5DLC_Resnet50_ratrun2Sep14shuffle1_snapshot_best-60_full.pickle\n",
            "Starting to analyze /content/drive/MyDrive/ratrun2-ziyu-2025-09-14/videos/12pt6.mp4\n",
            "Video metadata: \n",
            "  Overall # of frames:    600\n",
            "  Duration of video [s]:  5.01\n",
            "  fps:                    119.88\n",
            "  resolution:             w=1920, h=1080\n",
            "\n",
            "Running pose prediction with batch size 8\n"
          ]
        },
        {
          "output_type": "stream",
          "name": "stderr",
          "text": [
            "100%|██████████| 600/600 [00:43<00:00, 13.67it/s]\n"
          ]
        },
        {
          "output_type": "stream",
          "name": "stdout",
          "text": [
            "Saving results in /content/drive/MyDrive/ratrun2-ziyu-2025-09-14/labeled-videos/12pt6DLC_Resnet50_ratrun2Sep14shuffle1_snapshot_best-60.h5 and /content/drive/MyDrive/ratrun2-ziyu-2025-09-14/labeled-videos/12pt6DLC_Resnet50_ratrun2Sep14shuffle1_snapshot_best-60_full.pickle\n",
            "Starting to analyze /content/drive/MyDrive/ratrun2-ziyu-2025-09-14/videos/16sham.mp4\n",
            "Video metadata: \n",
            "  Overall # of frames:    600\n",
            "  Duration of video [s]:  5.01\n",
            "  fps:                    119.88\n",
            "  resolution:             w=1920, h=1080\n",
            "\n",
            "Running pose prediction with batch size 8\n"
          ]
        },
        {
          "output_type": "stream",
          "name": "stderr",
          "text": [
            "100%|██████████| 600/600 [00:43<00:00, 13.64it/s]\n"
          ]
        },
        {
          "output_type": "stream",
          "name": "stdout",
          "text": [
            "Saving results in /content/drive/MyDrive/ratrun2-ziyu-2025-09-14/labeled-videos/16shamDLC_Resnet50_ratrun2Sep14shuffle1_snapshot_best-60.h5 and /content/drive/MyDrive/ratrun2-ziyu-2025-09-14/labeled-videos/16shamDLC_Resnet50_ratrun2Sep14shuffle1_snapshot_best-60_full.pickle\n",
            "Starting to analyze /content/drive/MyDrive/ratrun2-ziyu-2025-09-14/videos/13pt6.mp4\n",
            "Video metadata: \n",
            "  Overall # of frames:    600\n",
            "  Duration of video [s]:  5.01\n",
            "  fps:                    119.88\n",
            "  resolution:             w=1920, h=1080\n",
            "\n",
            "Running pose prediction with batch size 8\n"
          ]
        },
        {
          "output_type": "stream",
          "name": "stderr",
          "text": [
            "100%|██████████| 600/600 [00:44<00:00, 13.52it/s]\n"
          ]
        },
        {
          "output_type": "stream",
          "name": "stdout",
          "text": [
            "Saving results in /content/drive/MyDrive/ratrun2-ziyu-2025-09-14/labeled-videos/13pt6DLC_Resnet50_ratrun2Sep14shuffle1_snapshot_best-60.h5 and /content/drive/MyDrive/ratrun2-ziyu-2025-09-14/labeled-videos/13pt6DLC_Resnet50_ratrun2Sep14shuffle1_snapshot_best-60_full.pickle\n",
            "Starting to analyze /content/drive/MyDrive/ratrun2-ziyu-2025-09-14/videos/14pt6.mp4\n",
            "Video metadata: \n",
            "  Overall # of frames:    600\n",
            "  Duration of video [s]:  5.01\n",
            "  fps:                    119.88\n",
            "  resolution:             w=1920, h=1080\n",
            "\n",
            "Running pose prediction with batch size 8\n"
          ]
        },
        {
          "output_type": "stream",
          "name": "stderr",
          "text": [
            "100%|██████████| 600/600 [00:44<00:00, 13.59it/s]\n"
          ]
        },
        {
          "output_type": "stream",
          "name": "stdout",
          "text": [
            "Saving results in /content/drive/MyDrive/ratrun2-ziyu-2025-09-14/labeled-videos/14pt6DLC_Resnet50_ratrun2Sep14shuffle1_snapshot_best-60.h5 and /content/drive/MyDrive/ratrun2-ziyu-2025-09-14/labeled-videos/14pt6DLC_Resnet50_ratrun2Sep14shuffle1_snapshot_best-60_full.pickle\n",
            "The videos are analyzed. Now your research can truly start!\n",
            "You can create labeled videos with 'create_labeled_video'.\n",
            "If the tracking is not satisfactory for some videos, consider expanding the training set. You can use the function 'extract_outlier_frames' to extract a few representative outlier frames.\n",
            "\n"
          ]
        },
        {
          "output_type": "execute_result",
          "data": {
            "text/plain": [
              "'DLC_Resnet50_ratrun2Sep14shuffle1_snapshot_best-60'"
            ],
            "application/vnd.google.colaboratory.intrinsic+json": {
              "type": "string"
            }
          },
          "metadata": {},
          "execution_count": 14
        }
      ],
      "source": [
        "deeplabcut.analyze_videos(\n",
        "    path_config_file,\n",
        "    videofile_path,\n",
        "    videotype=video_type,\n",
        "    destfolder=destfolder,\n",
        ")"
      ]
    },
    {
      "cell_type": "markdown",
      "metadata": {
        "id": "8GTiuJESoEKH"
      },
      "source": [
        "## Plot the trajectories of the analyzed videos:\n",
        "This function plots the trajectories of all the body parts across the entire video. Each body part is identified by a unique color."
      ]
    },
    {
      "cell_type": "code",
      "execution_count": 15,
      "metadata": {
        "id": "gX21zZbXoEKJ",
        "outputId": "b32b9493-5ebd-482b-bec7-6a3618654d6a",
        "colab": {
          "base_uri": "https://localhost:8080/"
        }
      },
      "outputs": [
        {
          "output_type": "stream",
          "name": "stdout",
          "text": [
            "Analyzing all the videos in the directory...\n",
            "Loading  /content/drive/MyDrive/ratrun2-ziyu-2025-09-14/videos/11pt5.mp4 and data.\n",
            "Loading  /content/drive/MyDrive/ratrun2-ziyu-2025-09-14/videos/03ch5.mp4 and data.\n",
            "Loading  /content/drive/MyDrive/ratrun2-ziyu-2025-09-14/videos/09pt5.mp4 and data.\n",
            "Loading  /content/drive/MyDrive/ratrun2-ziyu-2025-09-14/videos/07intact.mp4 and data.\n",
            "Loading  /content/drive/MyDrive/ratrun2-ziyu-2025-09-14/videos/16sham.mp4 and data.\n",
            "Loading  /content/drive/MyDrive/ratrun2-ziyu-2025-09-14/videos/13pt6.mp4 and data.\n",
            "Loading  /content/drive/MyDrive/ratrun2-ziyu-2025-09-14/videos/01ch5.mp4 and data.\n",
            "Loading  /content/drive/MyDrive/ratrun2-ziyu-2025-09-14/videos/05ch6.mp4 and data.\n",
            "Loading  /content/drive/MyDrive/ratrun2-ziyu-2025-09-14/videos/02ch5.mp4 and data.\n",
            "Loading  /content/drive/MyDrive/ratrun2-ziyu-2025-09-14/videos/06ch6.mp4 and data.\n",
            "Loading  /content/drive/MyDrive/ratrun2-ziyu-2025-09-14/videos/04ch6.mp4 and data.\n",
            "Loading  /content/drive/MyDrive/ratrun2-ziyu-2025-09-14/videos/08intact.mp4 and data.\n",
            "Loading  /content/drive/MyDrive/ratrun2-ziyu-2025-09-14/videos/15sham.mp4 and data.\n",
            "Loading  /content/drive/MyDrive/ratrun2-ziyu-2025-09-14/videos/10pt5.mp4 and data.\n",
            "Loading  /content/drive/MyDrive/ratrun2-ziyu-2025-09-14/videos/14pt6.mp4 and data.\n",
            "Loading  /content/drive/MyDrive/ratrun2-ziyu-2025-09-14/videos/12pt6.mp4 and data.\n",
            "Plots created! Please check the directory \"plot-poses\" within the video directory\n"
          ]
        }
      ],
      "source": [
        "deeplabcut.plot_trajectories(\n",
        "    path_config_file,\n",
        "    videofile_path,\n",
        "    videotype=video_type,\n",
        "    destfolder=destfolder,\n",
        ")"
      ]
    },
    {
      "cell_type": "markdown",
      "metadata": {
        "id": "pqaCw15v8EmB"
      },
      "source": [
        "Now you can look at the plot-poses file and check the \"plot-likelihood.png\" might want to change the \"p-cutoff\" in the config.yaml file so that you have only high confidnece points plotted in the video. i.e. ~0.8 or 0.9. The current default is 0.4."
      ]
    },
    {
      "cell_type": "markdown",
      "metadata": {
        "id": "pCrUvQIvoEKD"
      },
      "source": [
        "## Create labeled video:\n",
        "This function is for visualiztion purpose and can be used to create a video in .mp4 format with labels predicted by the network. This video is saved in the same directory where the original video resides."
      ]
    },
    {
      "cell_type": "code",
      "execution_count": 16,
      "metadata": {
        "id": "6aDF7Q7KoEKE",
        "outputId": "cf56490d-e211-4c6c-dd32-f298de3ef4f1",
        "colab": {
          "base_uri": "https://localhost:8080/"
        }
      },
      "outputs": [
        {
          "output_type": "stream",
          "name": "stdout",
          "text": [
            "Analyzing all the videos in the directory...\n",
            "Starting to process video: /content/drive/MyDrive/ratrun2-ziyu-2025-09-14/videos/13pt6.mp4Starting to process video: /content/drive/MyDrive/ratrun2-ziyu-2025-09-14/videos/01ch5.mp4Starting to process video: /content/drive/MyDrive/ratrun2-ziyu-2025-09-14/videos/16sham.mp4Starting to process video: /content/drive/MyDrive/ratrun2-ziyu-2025-09-14/videos/15sham.mp4Starting to process video: /content/drive/MyDrive/ratrun2-ziyu-2025-09-14/videos/05ch6.mp4Starting to process video: /content/drive/MyDrive/ratrun2-ziyu-2025-09-14/videos/04ch6.mp4\n",
            "\n",
            "\n",
            "Starting to process video: /content/drive/MyDrive/ratrun2-ziyu-2025-09-14/videos/12pt6.mp4\n",
            "Starting to process video: /content/drive/MyDrive/ratrun2-ziyu-2025-09-14/videos/06ch6.mp4Loading /content/drive/MyDrive/ratrun2-ziyu-2025-09-14/videos/01ch5.mp4 and data.\n",
            "Loading /content/drive/MyDrive/ratrun2-ziyu-2025-09-14/videos/13pt6.mp4 and data.Loading /content/drive/MyDrive/ratrun2-ziyu-2025-09-14/videos/16sham.mp4 and data.Starting to process video: /content/drive/MyDrive/ratrun2-ziyu-2025-09-14/videos/07intact.mp4\n",
            "Starting to process video: /content/drive/MyDrive/ratrun2-ziyu-2025-09-14/videos/03ch5.mp4\n",
            "Loading /content/drive/MyDrive/ratrun2-ziyu-2025-09-14/videos/15sham.mp4 and data.\n",
            "\n",
            "\n",
            "Loading /content/drive/MyDrive/ratrun2-ziyu-2025-09-14/videos/04ch6.mp4 and data.\n",
            "\n",
            "\n",
            "Loading /content/drive/MyDrive/ratrun2-ziyu-2025-09-14/videos/05ch6.mp4 and data.\n",
            "\n",
            "Starting to process video: /content/drive/MyDrive/ratrun2-ziyu-2025-09-14/videos/09pt5.mp4Loading /content/drive/MyDrive/ratrun2-ziyu-2025-09-14/videos/12pt6.mp4 and data.Loading /content/drive/MyDrive/ratrun2-ziyu-2025-09-14/videos/06ch6.mp4 and data.\n",
            "Loading /content/drive/MyDrive/ratrun2-ziyu-2025-09-14/videos/07intact.mp4 and data.\n",
            "\n",
            "\n",
            "\n",
            "Loading /content/drive/MyDrive/ratrun2-ziyu-2025-09-14/videos/03ch5.mp4 and data.Starting to process video: /content/drive/MyDrive/ratrun2-ziyu-2025-09-14/videos/10pt5.mp4\n",
            "Loading /content/drive/MyDrive/ratrun2-ziyu-2025-09-14/videos/09pt5.mp4 and data.\n",
            "\n",
            "Loading /content/drive/MyDrive/ratrun2-ziyu-2025-09-14/videos/10pt5.mp4 and data.\n",
            "Duration of video [s]: 5.0, recorded with 120 fps!\n",
            "Overall # of frames: 600 with cropped frame dimensions: 1920 1080\n",
            "Generating frames and creating video.\n",
            "Duration of video [s]: 5.0, recorded with 120 fps!\n",
            "Overall # of frames: 600 with cropped frame dimensions: 1920 1080\n"
          ]
        },
        {
          "output_type": "stream",
          "name": "stderr",
          "text": [
            "\r  0%|          | 0/600 [00:00<?, ?it/s]"
          ]
        },
        {
          "output_type": "stream",
          "name": "stdout",
          "text": [
            "Generating frames and creating video.\n"
          ]
        },
        {
          "output_type": "stream",
          "name": "stderr",
          "text": [
            "\r  0%|          | 0/600 [00:00<?, ?it/s]"
          ]
        },
        {
          "output_type": "stream",
          "name": "stdout",
          "text": [
            "Duration of video [s]: 5.0, recorded with 120 fps!\n",
            "Overall # of frames: 600 with cropped frame dimensions: 1920 1080\n",
            "Generating frames and creating video.Duration of video [s]: 5.0, recorded with 120 fps!\n",
            "Overall # of frames: 600 with cropped frame dimensions: 1920 1080\n",
            "\n",
            "Generating frames and creating video.\n"
          ]
        },
        {
          "output_type": "stream",
          "name": "stderr",
          "text": [
            "\r  0%|          | 0/600 [00:00<?, ?it/s]"
          ]
        },
        {
          "output_type": "stream",
          "name": "stdout",
          "text": [
            "Duration of video [s]: 5.0, recorded with 120 fps!"
          ]
        },
        {
          "output_type": "stream",
          "name": "stderr",
          "text": [
            "\r  0%|          | 0/600 [00:00<?, ?it/s]"
          ]
        },
        {
          "output_type": "stream",
          "name": "stdout",
          "text": [
            "\n",
            "Overall # of frames: 600 with cropped frame dimensions: 1920 1080Duration of video [s]: 5.0, recorded with 120 fps!\n",
            "\n",
            "Generating frames and creating video.Duration of video [s]: 5.0, recorded with 120 fps!Overall # of frames: 600 with cropped frame dimensions: 1920 1080\n",
            "\n",
            "\n",
            "Overall # of frames: 600 with cropped frame dimensions: 1920 1080"
          ]
        },
        {
          "output_type": "stream",
          "name": "stderr",
          "text": [
            "\r  0%|          | 0/600 [00:00<?, ?it/s]"
          ]
        },
        {
          "output_type": "stream",
          "name": "stdout",
          "text": [
            "\n",
            "Generating frames and creating video.Generating frames and creating video.\n",
            "\n",
            "Duration of video [s]: 5.0, recorded with 120 fps!"
          ]
        },
        {
          "output_type": "stream",
          "name": "stderr",
          "text": [
            "\r  0%|          | 0/600 [00:00<?, ?it/s]"
          ]
        },
        {
          "output_type": "stream",
          "name": "stdout",
          "text": [
            "Duration of video [s]: 5.0, recorded with 120 fps!\n",
            "Duration of video [s]: 5.0, recorded with 120 fps!\n",
            "Overall # of frames: 600 with cropped frame dimensions: 1920 1080Overall # of frames: 600 with cropped frame dimensions: 1920 1080\n",
            "\n",
            "Generating frames and creating video."
          ]
        },
        {
          "output_type": "stream",
          "name": "stderr",
          "text": [
            "\r  0%|          | 0/600 [00:00<?, ?it/s]"
          ]
        },
        {
          "output_type": "stream",
          "name": "stdout",
          "text": [
            "Duration of video [s]: 5.0, recorded with 120 fps!\n",
            "Generating frames and creating video.\n"
          ]
        },
        {
          "output_type": "stream",
          "name": "stderr",
          "text": [
            "\r  0%|          | 0/600 [00:00<?, ?it/s]"
          ]
        },
        {
          "output_type": "stream",
          "name": "stdout",
          "text": [
            "\n"
          ]
        },
        {
          "output_type": "stream",
          "name": "stderr",
          "text": [
            "\r  0%|          | 0/600 [00:00<?, ?it/s]"
          ]
        },
        {
          "output_type": "stream",
          "name": "stdout",
          "text": [
            "Overall # of frames: 600 with cropped frame dimensions: 1920 1080Duration of video [s]: 5.0, recorded with 120 fps!\n",
            "\n",
            "Overall # of frames: 600 with cropped frame dimensions: 1920 1080\n",
            "Generating frames and creating video.\n",
            "Overall # of frames: 600 with cropped frame dimensions: 1920 1080\n",
            "Generating frames and creating video."
          ]
        },
        {
          "output_type": "stream",
          "name": "stderr",
          "text": [
            "  0%|          | 0/600 [00:00<?, ?it/s]"
          ]
        },
        {
          "output_type": "stream",
          "name": "stdout",
          "text": [
            "\n",
            "\n",
            "Generating frames and creating video.\n"
          ]
        },
        {
          "output_type": "stream",
          "name": "stderr",
          "text": [
            "100%|██████████| 600/600 [00:26<00:00, 22.56it/s]\n",
            " 98%|█████████▊| 591/600 [00:26<00:00, 24.84it/s]"
          ]
        },
        {
          "output_type": "stream",
          "name": "stdout",
          "text": [
            "Starting to process video: /content/drive/MyDrive/ratrun2-ziyu-2025-09-14/videos/08intact.mp4\n"
          ]
        },
        {
          "output_type": "stream",
          "name": "stderr",
          "text": [
            "\r 96%|█████████▋| 578/600 [00:26<00:00, 22.83it/s]"
          ]
        },
        {
          "output_type": "stream",
          "name": "stdout",
          "text": [
            "Loading /content/drive/MyDrive/ratrun2-ziyu-2025-09-14/videos/08intact.mp4 and data.\n"
          ]
        },
        {
          "output_type": "stream",
          "name": "stderr",
          "text": [
            "100%|██████████| 600/600 [00:26<00:00, 22.46it/s]\n",
            "100%|██████████| 600/600 [00:26<00:00, 22.46it/s]\n",
            "100%|██████████| 600/600 [00:26<00:00, 22.48it/s]\n",
            " 97%|█████████▋| 584/600 [00:26<00:00, 23.79it/s]"
          ]
        },
        {
          "output_type": "stream",
          "name": "stdout",
          "text": [
            "Starting to process video: /content/drive/MyDrive/ratrun2-ziyu-2025-09-14/videos/14pt6.mp4Starting to process video: /content/drive/MyDrive/ratrun2-ziyu-2025-09-14/videos/11pt5.mp4Starting to process video: /content/drive/MyDrive/ratrun2-ziyu-2025-09-14/videos/02ch5.mp4\n",
            "\n",
            "Loading /content/drive/MyDrive/ratrun2-ziyu-2025-09-14/videos/11pt5.mp4 and data.Loading /content/drive/MyDrive/ratrun2-ziyu-2025-09-14/videos/14pt6.mp4 and data.\n",
            "\n",
            "\n",
            "Loading /content/drive/MyDrive/ratrun2-ziyu-2025-09-14/videos/02ch5.mp4 and data."
          ]
        },
        {
          "output_type": "stream",
          "name": "stderr",
          "text": [
            "\r 98%|█████████▊| 591/600 [00:26<00:00, 24.68it/s]"
          ]
        },
        {
          "output_type": "stream",
          "name": "stdout",
          "text": [
            "\n"
          ]
        },
        {
          "output_type": "stream",
          "name": "stderr",
          "text": [
            " 98%|█████████▊| 585/600 [00:26<00:00, 26.17it/s]"
          ]
        },
        {
          "output_type": "stream",
          "name": "stdout",
          "text": [
            "Duration of video [s]: 5.0, recorded with 120 fps!\n",
            "Overall # of frames: 600 with cropped frame dimensions: 1920 1080\n",
            "Generating frames and creating video.\n"
          ]
        },
        {
          "output_type": "stream",
          "name": "stderr",
          "text": [
            "100%|██████████| 600/600 [00:26<00:00, 22.38it/s]\n",
            "100%|██████████| 600/600 [00:26<00:00, 22.40it/s]\n",
            "100%|█████████▉| 597/600 [00:26<00:00, 25.42it/s]"
          ]
        },
        {
          "output_type": "stream",
          "name": "stdout",
          "text": [
            "Duration of video [s]: 5.0, recorded with 120 fps!\n",
            "Overall # of frames: 600 with cropped frame dimensions: 1920 1080\n",
            "Generating frames and creating video.\n"
          ]
        },
        {
          "output_type": "stream",
          "name": "stderr",
          "text": [
            "\r  0%|          | 0/600 [00:00<?, ?it/s]"
          ]
        },
        {
          "output_type": "stream",
          "name": "stdout",
          "text": [
            "Duration of video [s]: 5.0, recorded with 120 fps!\n",
            "Overall # of frames: 600 with cropped frame dimensions: 1920 1080"
          ]
        },
        {
          "output_type": "stream",
          "name": "stderr",
          "text": [
            "\r 98%|█████████▊| 586/600 [00:26<00:00, 28.52it/s]"
          ]
        },
        {
          "output_type": "stream",
          "name": "stdout",
          "text": [
            "\n",
            "Duration of video [s]: 5.0, recorded with 120 fps!\n",
            "Generating frames and creating video.\n"
          ]
        },
        {
          "output_type": "stream",
          "name": "stderr",
          "text": [
            "\r  0%|          | 0/600 [00:00<?, ?it/s]"
          ]
        },
        {
          "output_type": "stream",
          "name": "stdout",
          "text": [
            "Overall # of frames: 600 with cropped frame dimensions: 1920 1080\n"
          ]
        },
        {
          "output_type": "stream",
          "name": "stderr",
          "text": [
            "\r 99%|█████████▉| 593/600 [00:26<00:00, 30.43it/s]"
          ]
        },
        {
          "output_type": "stream",
          "name": "stdout",
          "text": [
            "Generating frames and creating video.\n"
          ]
        },
        {
          "output_type": "stream",
          "name": "stderr",
          "text": [
            "100%|██████████| 600/600 [00:27<00:00, 22.14it/s]\n",
            "100%|██████████| 600/600 [00:27<00:00, 22.13it/s]\n",
            "100%|██████████| 600/600 [00:27<00:00, 22.09it/s]\n",
            "100%|██████████| 600/600 [00:27<00:00, 22.10it/s]\n",
            "100%|██████████| 600/600 [00:27<00:00, 22.04it/s]\n",
            "100%|██████████| 600/600 [00:27<00:00, 22.00it/s]\n",
            "100%|██████████| 600/600 [00:12<00:00, 48.99it/s]\n",
            "100%|██████████| 600/600 [00:12<00:00, 48.55it/s]\n",
            "100%|██████████| 600/600 [00:12<00:00, 48.09it/s]\n",
            "100%|██████████| 600/600 [00:12<00:00, 47.55it/s]\n"
          ]
        },
        {
          "output_type": "execute_result",
          "data": {
            "text/plain": [
              "[True,\n",
              " True,\n",
              " True,\n",
              " True,\n",
              " True,\n",
              " True,\n",
              " True,\n",
              " True,\n",
              " True,\n",
              " True,\n",
              " True,\n",
              " True,\n",
              " True,\n",
              " True,\n",
              " True,\n",
              " True]"
            ]
          },
          "metadata": {},
          "execution_count": 16
        }
      ],
      "source": [
        "deeplabcut.create_labeled_video(\n",
        "    path_config_file,\n",
        "    videofile_path,\n",
        "    videotype=video_type,\n",
        "    destfolder=destfolder,\n",
        ")"
      ]
    }
  ],
  "metadata": {
    "accelerator": "GPU",
    "colab": {
      "name": "Copy of latest_Colab_TrainNetwork_VideoAnalysis.ipynb",
      "provenance": [],
      "gpuType": "A100",
      "include_colab_link": true
    },
    "kernelspec": {
      "display_name": "Python 3",
      "name": "python3"
    },
    "language_info": {
      "name": "python",
      "version": "3.8.12"
    },
    "vscode": {
      "interpreter": {
        "hash": "70cad038f2bddb56e8a0ba66c48b76ebce20579892bf83e71733a81977e3ceea"
      }
    }
  },
  "nbformat": 4,
  "nbformat_minor": 0
}